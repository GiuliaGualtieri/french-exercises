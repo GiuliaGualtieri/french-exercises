{
  "cells": [
    {
      "cell_type": "markdown",
      "metadata": {
        "id": "OYL3iB83Vb9Y"
      },
      "source": [
        "# Mask-Filling task"
      ]
    },
    {
      "cell_type": "markdown",
      "metadata": {
        "id": "SQ2ClW60Vb3M"
      },
      "source": [
        "## Import libraries"
      ]
    },
    {
      "cell_type": "code",
      "execution_count": 261,
      "metadata": {
        "id": "r8mkVItPVmv_"
      },
      "outputs": [],
      "source": [
        "import pandas as pd\n",
        "import numpy as np"
      ]
    },
    {
      "cell_type": "code",
      "execution_count": 262,
      "metadata": {
        "id": "uD0eZo-9V9Jh"
      },
      "outputs": [],
      "source": [
        "import random"
      ]
    },
    {
      "cell_type": "code",
      "execution_count": 263,
      "metadata": {
        "id": "qp1ui8RYZWNR"
      },
      "outputs": [],
      "source": [
        "import tqdm"
      ]
    },
    {
      "cell_type": "code",
      "execution_count": 264,
      "metadata": {
        "id": "-YM28M1xVwS4"
      },
      "outputs": [],
      "source": [
        "from transformers import AutoTokenizer, AutoModelForSeq2SeqLM"
      ]
    },
    {
      "cell_type": "code",
      "execution_count": 265,
      "metadata": {
        "id": "6OQeAl3WnN8o"
      },
      "outputs": [],
      "source": [
        "import string"
      ]
    },
    {
      "cell_type": "code",
      "execution_count": 266,
      "metadata": {
        "id": "jiV9-gRvTyRU"
      },
      "outputs": [],
      "source": [
        "import os"
      ]
    },
    {
      "cell_type": "code",
      "execution_count": 267,
      "metadata": {
        "colab": {
          "base_uri": "https://localhost:8080/",
          "height": 35
        },
        "id": "hbi4cpFuTvu0",
        "outputId": "6d8139a7-028d-4df4-b0fa-2b612c20212f"
      },
      "outputs": [
        {
          "data": {
            "text/plain": [
              "'c:\\\\Users\\\\Giulia\\\\Documents\\\\MyGithub\\\\Français_Exercises\\\\french-exercises\\\\notebooks'"
            ]
          },
          "execution_count": 267,
          "metadata": {},
          "output_type": "execute_result"
        }
      ],
      "source": [
        "os.getcwd()"
      ]
    },
    {
      "cell_type": "markdown",
      "metadata": {
        "id": "YVPbLyqRiLL3"
      },
      "source": [
        "## Dataset"
      ]
    },
    {
      "cell_type": "code",
      "execution_count": 268,
      "metadata": {
        "id": "9Rka_NOXeDUS"
      },
      "outputs": [],
      "source": [
        "df = pd.DataFrame(np.zeros((1,1)))\n",
        "with open('../data/in/lepetitprinceexupery.txt', 'r') as f:\n",
        "     lines = f.readlines()\n",
        "     for line in lines:\n",
        "            data = line.strip().split(\"\\t\")\n",
        "            for el in data:\n",
        "                phrases = el.strip().split(\".\")\n",
        "                for phrase in phrases:\n",
        "                    df = pd.DataFrame(np.append(df.values, [[phrase]], axis=0))"
      ]
    },
    {
      "cell_type": "code",
      "execution_count": 269,
      "metadata": {
        "id": "8EK8a_4rnxYC"
      },
      "outputs": [],
      "source": [
        "list_punctuation_to_remove = '!\"#$%&()*+,-./:;<=>?@[\\\\]^_`{|}~)Ã©ª'"
      ]
    },
    {
      "cell_type": "code",
      "execution_count": 238,
      "metadata": {
        "id": "CB7G_zlrkvrx"
      },
      "outputs": [],
      "source": [
        "def check_row_is_to_remove(row):\n",
        "    # convert and remove punctuation\n",
        "    new_row = row.translate(str.maketrans('', '', list_punctuation_to_remove))\n",
        "    # we want it has at least 5 words.\n",
        "    len_row = len(new_row.split())\n",
        "    if len_row < 5:\n",
        "        to_clean = True\n",
        "    else:\n",
        "        to_clean = False\n",
        "    return [to_clean, new_row]"
      ]
    },
    {
      "cell_type": "code",
      "execution_count": 239,
      "metadata": {
        "id": "mSUDWCEcqbkO"
      },
      "outputs": [],
      "source": [
        "df.rename(columns = {0:'original'}, inplace = True)"
      ]
    },
    {
      "cell_type": "code",
      "execution_count": 240,
      "metadata": {
        "id": "IgGTKEWoqiC1"
      },
      "outputs": [],
      "source": [
        "df[['check','new']] = [[check_row_is_to_remove(el)[0],check_row_is_to_remove(el)[1]] for el in df['original']]"
      ]
    },
    {
      "cell_type": "code",
      "execution_count": 241,
      "metadata": {
        "id": "iCfghgmXreTG"
      },
      "outputs": [],
      "source": [
        "df = df.loc[df['check']== False]"
      ]
    },
    {
      "cell_type": "code",
      "execution_count": 242,
      "metadata": {
        "colab": {
          "base_uri": "https://localhost:8080/",
          "height": 206
        },
        "id": "JjkHJzcurzAf",
        "outputId": "8f5ba7b3-92f8-492c-9582-0eccef5f6486"
      },
      "outputs": [
        {
          "data": {
            "text/html": [
              "<div>\n",
              "<style scoped>\n",
              "    .dataframe tbody tr th:only-of-type {\n",
              "        vertical-align: middle;\n",
              "    }\n",
              "\n",
              "    .dataframe tbody tr th {\n",
              "        vertical-align: top;\n",
              "    }\n",
              "\n",
              "    .dataframe thead th {\n",
              "        text-align: right;\n",
              "    }\n",
              "</style>\n",
              "<table border=\"1\" class=\"dataframe\">\n",
              "  <thead>\n",
              "    <tr style=\"text-align: right;\">\n",
              "      <th></th>\n",
              "      <th>original</th>\n",
              "      <th>check</th>\n",
              "      <th>new</th>\n",
              "    </tr>\n",
              "  </thead>\n",
              "  <tbody>\n",
              "    <tr>\n",
              "      <th>9</th>\n",
              "      <td>Lorsque j'avais six ans j'ai vu, une fois, une...</td>\n",
              "      <td>False</td>\n",
              "      <td>Lorsque j'avais six ans j'ai vu une fois une m...</td>\n",
              "    </tr>\n",
              "    <tr>\n",
              "      <th>10</th>\n",
              "      <td>Ã‡a reprÃ©sentait un serpent boa qui avalait ...</td>\n",
              "      <td>False</td>\n",
              "      <td>‡a reprsentait un serpent boa qui avalait un ...</td>\n",
              "    </tr>\n",
              "    <tr>\n",
              "      <th>11</th>\n",
              "      <td>VoilÃ  la copie du dessin</td>\n",
              "      <td>False</td>\n",
              "      <td>Voil  la copie du dessin</td>\n",
              "    </tr>\n",
              "    <tr>\n",
              "      <th>14</th>\n",
              "      <td>On disait dans le livre :\"Les serpents boas av...</td>\n",
              "      <td>False</td>\n",
              "      <td>On disait dans le livre Les serpents boas aval...</td>\n",
              "    </tr>\n",
              "    <tr>\n",
              "      <th>15</th>\n",
              "      <td>Ensuite ils ne peuvent plus bouger et ils dor...</td>\n",
              "      <td>False</td>\n",
              "      <td>Ensuite ils ne peuvent plus bouger et ils dor...</td>\n",
              "    </tr>\n",
              "  </tbody>\n",
              "</table>\n",
              "</div>"
            ],
            "text/plain": [
              "                                             original  check  \\\n",
              "9   Lorsque j'avais six ans j'ai vu, une fois, une...  False   \n",
              "10   Ã‡a reprÃ©sentait un serpent boa qui avalait ...  False   \n",
              "11                          VoilÃ  la copie du dessin  False   \n",
              "14  On disait dans le livre :\"Les serpents boas av...  False   \n",
              "15   Ensuite ils ne peuvent plus bouger et ils dor...  False   \n",
              "\n",
              "                                                  new  \n",
              "9   Lorsque j'avais six ans j'ai vu une fois une m...  \n",
              "10   ‡a reprsentait un serpent boa qui avalait un ...  \n",
              "11                           Voil  la copie du dessin  \n",
              "14  On disait dans le livre Les serpents boas aval...  \n",
              "15   Ensuite ils ne peuvent plus bouger et ils dor...  "
            ]
          },
          "execution_count": 242,
          "metadata": {},
          "output_type": "execute_result"
        }
      ],
      "source": [
        "df.head(5)"
      ]
    },
    {
      "cell_type": "code",
      "execution_count": 243,
      "metadata": {},
      "outputs": [],
      "source": [
        "import pprint"
      ]
    },
    {
      "cell_type": "code",
      "execution_count": 244,
      "metadata": {},
      "outputs": [
        {
          "data": {
            "text/plain": [
              "'Lorsque j\\'avais six ans j\\'ai vu, une fois, une magnifique image, dans un livre sur la ForÃªt Vierge qui s\\'appelait\"Histoires VÃ©cues\"'"
            ]
          },
          "execution_count": 244,
          "metadata": {},
          "output_type": "execute_result"
        }
      ],
      "source": [
        "df['original'].iloc[0]"
      ]
    },
    {
      "cell_type": "code",
      "execution_count": 245,
      "metadata": {},
      "outputs": [
        {
          "data": {
            "text/plain": [
              "\"Lorsque j'avais six ans j'ai vu une fois une magnifique image dans un livre sur la Fort Vierge qui s'appelaitHistoires Vcues\""
            ]
          },
          "execution_count": 245,
          "metadata": {},
          "output_type": "execute_result"
        }
      ],
      "source": [
        "df['new'].iloc[0]"
      ]
    },
    {
      "cell_type": "markdown",
      "metadata": {
        "id": "wf8tAs1GVnKz"
      },
      "source": [
        "## Model"
      ]
    },
    {
      "cell_type": "code",
      "execution_count": 246,
      "metadata": {
        "id": "QIrngj3xTmir"
      },
      "outputs": [],
      "source": [
        "tokenizer = AutoTokenizer.from_pretrained(\"moussaKam/mbarthez\")\n",
        "\n",
        "model = AutoModelForSeq2SeqLM.from_pretrained(\"moussaKam/mbarthez\")"
      ]
    },
    {
      "cell_type": "markdown",
      "metadata": {
        "id": "1elPrP1NVQzT"
      },
      "source": [
        "Example of BART model for mask-filling task in NLP."
      ]
    },
    {
      "cell_type": "markdown",
      "metadata": {
        "id": "5NEhq7CsWItb"
      },
      "source": [
        "A french sequence to sequence pretrained model based on BART.\n",
        "BARThez is pretrained by learning to reconstruct a corrupted input sentence. A corpus of 66GB of french raw text is used to carry out the pretraining.\n",
        "Unlike already existing BERT-based French language models such as CamemBERT and FlauBERT, BARThez is particularly well-suited for generative tasks (such as abstractive summarization), since not only its encoder but also its decoder is pretrained."
      ]
    },
    {
      "cell_type": "markdown",
      "metadata": {
        "id": "O6_TlPQ8bwgG"
      },
      "source": [
        "## Decode the input"
      ]
    },
    {
      "cell_type": "code",
      "execution_count": 247,
      "metadata": {
        "id": "WR8ujUdIcJCY"
      },
      "outputs": [],
      "source": [
        "def f_decode_input(txt):\n",
        "    input_ids = tokenizer([txt], return_tensors=\"pt\")[\"input_ids\"]\n",
        "    logits = model(input_ids).logits\n",
        "    masked_index = (input_ids[0] == tokenizer.mask_token_id).nonzero().item()\n",
        "    probs = logits[0, masked_index].softmax(dim=0)\n",
        "    values, predictions = probs.topk(5)\n",
        "    return tokenizer.decode(predictions).split()"
      ]
    },
    {
      "cell_type": "markdown",
      "metadata": {
        "id": "nS7nZQhfUO-Y"
      },
      "source": [
        "## Example"
      ]
    },
    {
      "cell_type": "code",
      "execution_count": 248,
      "metadata": {
        "id": "jCkrNKygVzP_"
      },
      "outputs": [],
      "source": [
        "TXT = \"Lorsque j'avais six ans j'ai vu, une fois, une <mask> image.\""
      ]
    },
    {
      "cell_type": "code",
      "execution_count": 249,
      "metadata": {
        "id": "W02rv5xHb2BM"
      },
      "outputs": [],
      "source": [
        "TXT2 = \"J'ai montré mon chef-d'oeuvre aux grandes <mask> et je leur ai demandé si mon dessin leur faisait peur.\""
      ]
    },
    {
      "cell_type": "code",
      "execution_count": 250,
      "metadata": {
        "id": "vHXjZ1fEd8fz"
      },
      "outputs": [],
      "source": [
        "TXT3 = \"je faisais l'expérience sur <mask> de mon dessin numéro Un\""
      ]
    },
    {
      "cell_type": "code",
      "execution_count": 251,
      "metadata": {
        "colab": {
          "base_uri": "https://localhost:8080/"
        },
        "id": "ZdTZVv46b3Yj",
        "outputId": "3ff5e57c-bb1a-4f3c-8c53-4ecb94c97ebb"
      },
      "outputs": [
        {
          "name": "stdout",
          "output_type": "stream",
          "text": [
            "['image', 'fois', 'seule', 'autre', 'photo']\n",
            "['personnes', 'écoles', 'et', 'heures']\n",
            "['la', 'le', 'l', 'de', 'les']\n"
          ]
        }
      ],
      "source": [
        "for txt in [TXT, TXT2, TXT3]:\n",
        "    print(f_decode_input(txt))"
      ]
    },
    {
      "cell_type": "markdown",
      "metadata": {
        "id": "DnvhTx6sVNco"
      },
      "source": [
        "## Training"
      ]
    },
    {
      "cell_type": "code",
      "execution_count": 252,
      "metadata": {},
      "outputs": [],
      "source": [
        "def check_prediction(to_mask, predictions):\n",
        "    list_ok = []\n",
        "    list_ko = []\n",
        "    predictions2 = None\n",
        "    for prediction in predictions:\n",
        "        prediction.translate(str.maketrans('', '', list_punctuation_to_remove))\n",
        "        if len(prediction)<2:\n",
        "            list_ko.append(prediction)\n",
        "        elif len(prediction)< 7 and len(prediction)<(len(to_mask)-2):\n",
        "            list_ko.append(prediction)\n",
        "        else:\n",
        "            list_ok.append(prediction)\n",
        "    if list_ko:\n",
        "        txt2 = \"Un possible synonyme de \"+to_mask+\" est <mask>.\"\n",
        "        predictions2 = f_decode_input(txt2)\n",
        "        predictions2 = [el.translate(str.maketrans('', '', list_punctuation_to_remove)) for el in predictions2]\n",
        "        predictions2 = [el for el in predictions2 if len(el)>1]\n",
        "        list_ok.extend(predictions2)\n",
        "    return list_ok"
      ]
    },
    {
      "cell_type": "code",
      "execution_count": 254,
      "metadata": {
        "id": "FqpQrpy-VKzW"
      },
      "outputs": [
        {
          "name": "stderr",
          "output_type": "stream",
          "text": [
            "100%|██████████| 1157/1157 [11:42<00:00,  1.65it/s]\n"
          ]
        }
      ],
      "source": [
        "dict_QA = {'question' : [], 'answer' : [], 'answers' : []}\n",
        "\n",
        "for row in tqdm.tqdm(df.iterrows(), total =df.shape[0]):\n",
        "    words = row[1]['new'].split()\n",
        "    rnd = random.randint(0,len(words)-1)\n",
        "    to_mask = words[rnd]\n",
        "    while len(to_mask)<2:\n",
        "        rnd = random.randint(0,len(words)-1)\n",
        "        to_mask = words[rnd]    \n",
        "    words[rnd] = '<mask>'\n",
        "    to_txt = ''\n",
        "    for el in words:\n",
        "        to_txt += el + ' '\n",
        "    txt = to_txt[:-1]\n",
        "    predictions = f_decode_input(txt)\n",
        "    predictions = check_prediction(to_mask, predictions)\n",
        "    if to_mask not in predictions:\n",
        "        predictions = predictions[:-1]\n",
        "        predictions.append(to_mask)\n",
        "    dict_QA['question'].append(txt)\n",
        "    dict_QA['answer'].append(to_mask)\n",
        "    dict_QA['answers'].append(predictions)"
      ]
    },
    {
      "cell_type": "markdown",
      "metadata": {
        "id": "Ld66QoIwY2QN"
      },
      "source": [
        "## End"
      ]
    },
    {
      "cell_type": "code",
      "execution_count": 256,
      "metadata": {
        "colab": {
          "base_uri": "https://localhost:8080/"
        },
        "id": "R8dq-FF4YFSO",
        "outputId": "61db3637-c6bb-494a-b747-d19ea6f628ae"
      },
      "outputs": [],
      "source": [
        "df['question'] = dict_QA['question']\n",
        "df['answer'] = dict_QA['answer']\n",
        "df['answers'] = dict_QA['answers']"
      ]
    },
    {
      "cell_type": "code",
      "execution_count": 257,
      "metadata": {},
      "outputs": [
        {
          "data": {
            "text/html": [
              "<div>\n",
              "<style scoped>\n",
              "    .dataframe tbody tr th:only-of-type {\n",
              "        vertical-align: middle;\n",
              "    }\n",
              "\n",
              "    .dataframe tbody tr th {\n",
              "        vertical-align: top;\n",
              "    }\n",
              "\n",
              "    .dataframe thead th {\n",
              "        text-align: right;\n",
              "    }\n",
              "</style>\n",
              "<table border=\"1\" class=\"dataframe\">\n",
              "  <thead>\n",
              "    <tr style=\"text-align: right;\">\n",
              "      <th></th>\n",
              "      <th>original</th>\n",
              "      <th>check</th>\n",
              "      <th>new</th>\n",
              "      <th>question</th>\n",
              "      <th>answer</th>\n",
              "      <th>answers</th>\n",
              "    </tr>\n",
              "  </thead>\n",
              "  <tbody>\n",
              "    <tr>\n",
              "      <th>9</th>\n",
              "      <td>Lorsque j'avais six ans j'ai vu, une fois, une...</td>\n",
              "      <td>False</td>\n",
              "      <td>Lorsque j'avais six ans j'ai vu une fois une m...</td>\n",
              "      <td>Lorsque j'avais six ans j'ai vu une fois une m...</td>\n",
              "      <td>la</td>\n",
              "      <td>[le, Fort, la, un, un, appelé, le]</td>\n",
              "    </tr>\n",
              "    <tr>\n",
              "      <th>10</th>\n",
              "      <td>Ã‡a reprÃ©sentait un serpent boa qui avalait ...</td>\n",
              "      <td>False</td>\n",
              "      <td>‡a reprsentait un serpent boa qui avalait un ...</td>\n",
              "      <td>‡a reprsentait un serpent boa qui avalait &lt;mas...</td>\n",
              "      <td>un</td>\n",
              "      <td>[un, faun, uneait]</td>\n",
              "    </tr>\n",
              "    <tr>\n",
              "      <th>11</th>\n",
              "      <td>VoilÃ  la copie du dessin</td>\n",
              "      <td>False</td>\n",
              "      <td>Voil  la copie du dessin</td>\n",
              "      <td>Voil la copie du &lt;mask&gt;</td>\n",
              "      <td>dessin</td>\n",
              "      <td>[texte&lt;/s&gt;, unh, dessin]</td>\n",
              "    </tr>\n",
              "    <tr>\n",
              "      <th>14</th>\n",
              "      <td>On disait dans le livre :\"Les serpents boas av...</td>\n",
              "      <td>False</td>\n",
              "      <td>On disait dans le livre Les serpents boas aval...</td>\n",
              "      <td>&lt;mask&gt; disait dans le livre Les serpents boas ...</td>\n",
              "      <td>On</td>\n",
              "      <td>[Comme, Il, Ce, est, On]</td>\n",
              "    </tr>\n",
              "    <tr>\n",
              "      <th>15</th>\n",
              "      <td>Ensuite ils ne peuvent plus bouger et ils dor...</td>\n",
              "      <td>False</td>\n",
              "      <td>Ensuite ils ne peuvent plus bouger et ils dor...</td>\n",
              "      <td>Ensuite ils ne peuvent plus bouger et &lt;mask&gt; d...</td>\n",
              "      <td>ils</td>\n",
              "      <td>[dor, ils, il, dorm, donc]</td>\n",
              "    </tr>\n",
              "    <tr>\n",
              "      <th>...</th>\n",
              "      <td>...</td>\n",
              "      <td>...</td>\n",
              "      <td>...</td>\n",
              "      <td>...</td>\n",
              "      <td>...</td>\n",
              "      <td>...</td>\n",
              "    </tr>\n",
              "    <tr>\n",
              "      <th>3217</th>\n",
              "      <td>\"Alors les grelots se changent tous en larmes !</td>\n",
              "      <td>False</td>\n",
              "      <td>Alors les grelots se changent tous en larmes</td>\n",
              "      <td>Alors les grelots se changent tous en &lt;mask&gt;</td>\n",
              "      <td>larmes</td>\n",
              "      <td>[larmes]</td>\n",
              "    </tr>\n",
              "    <tr>\n",
              "      <th>3222</th>\n",
              "      <td>C'est lÃ  un bien grand mystÃ¨re</td>\n",
              "      <td>False</td>\n",
              "      <td>C'est l  un bien grand myst¨re</td>\n",
              "      <td>C'est l &lt;mask&gt; bien grand myst¨re</td>\n",
              "      <td>un</td>\n",
              "      <td>['un, un]</td>\n",
              "    </tr>\n",
              "    <tr>\n",
              "      <th>3223</th>\n",
              "      <td>Pour vous qui aimez aussi le petit prince, co...</td>\n",
              "      <td>False</td>\n",
              "      <td>Pour vous qui aimez aussi le petit prince com...</td>\n",
              "      <td>Pour vous qui aimez aussi le petit prince comm...</td>\n",
              "      <td>oui</td>\n",
              "      <td>[ou, mang, oui, un]</td>\n",
              "    </tr>\n",
              "    <tr>\n",
              "      <th>3229</th>\n",
              "      <td>Demandez-vous : Le mouton oui ou non a-t-il m...</td>\n",
              "      <td>False</td>\n",
              "      <td>Demandezvous  Le mouton oui ou non atil mang ...</td>\n",
              "      <td>Demandezvous Le mouton oui ou non atil mang la...</td>\n",
              "      <td>vous</td>\n",
              "      <td>[vous, Vous, quand, puis, le]</td>\n",
              "    </tr>\n",
              "    <tr>\n",
              "      <th>3234</th>\n",
              "      <td>Et aucune grande personne ne comprendra jamais...</td>\n",
              "      <td>False</td>\n",
              "      <td>Et aucune grande personne ne comprendra jamais...</td>\n",
              "      <td>Et aucune grande personne ne comprendra jamais...</td>\n",
              "      <td>d'importance</td>\n",
              "      <td>[d'importance]</td>\n",
              "    </tr>\n",
              "  </tbody>\n",
              "</table>\n",
              "<p>1157 rows × 6 columns</p>\n",
              "</div>"
            ],
            "text/plain": [
              "                                               original  check  \\\n",
              "9     Lorsque j'avais six ans j'ai vu, une fois, une...  False   \n",
              "10     Ã‡a reprÃ©sentait un serpent boa qui avalait ...  False   \n",
              "11                            VoilÃ  la copie du dessin  False   \n",
              "14    On disait dans le livre :\"Les serpents boas av...  False   \n",
              "15     Ensuite ils ne peuvent plus bouger et ils dor...  False   \n",
              "...                                                 ...    ...   \n",
              "3217   \"Alors les grelots se changent tous en larmes !   False   \n",
              "3222                   C'est lÃ  un bien grand mystÃ¨re  False   \n",
              "3223   Pour vous qui aimez aussi le petit prince, co...  False   \n",
              "3229   Demandez-vous : Le mouton oui ou non a-t-il m...  False   \n",
              "3234  Et aucune grande personne ne comprendra jamais...  False   \n",
              "\n",
              "                                                    new  \\\n",
              "9     Lorsque j'avais six ans j'ai vu une fois une m...   \n",
              "10     ‡a reprsentait un serpent boa qui avalait un ...   \n",
              "11                             Voil  la copie du dessin   \n",
              "14    On disait dans le livre Les serpents boas aval...   \n",
              "15     Ensuite ils ne peuvent plus bouger et ils dor...   \n",
              "...                                                 ...   \n",
              "3217     Alors les grelots se changent tous en larmes     \n",
              "3222                     C'est l  un bien grand myst¨re   \n",
              "3223   Pour vous qui aimez aussi le petit prince com...   \n",
              "3229   Demandezvous  Le mouton oui ou non atil mang ...   \n",
              "3234  Et aucune grande personne ne comprendra jamais...   \n",
              "\n",
              "                                               question        answer  \\\n",
              "9     Lorsque j'avais six ans j'ai vu une fois une m...            la   \n",
              "10    ‡a reprsentait un serpent boa qui avalait <mas...            un   \n",
              "11                              Voil la copie du <mask>        dessin   \n",
              "14    <mask> disait dans le livre Les serpents boas ...            On   \n",
              "15    Ensuite ils ne peuvent plus bouger et <mask> d...           ils   \n",
              "...                                                 ...           ...   \n",
              "3217       Alors les grelots se changent tous en <mask>        larmes   \n",
              "3222                  C'est l <mask> bien grand myst¨re            un   \n",
              "3223  Pour vous qui aimez aussi le petit prince comm...           oui   \n",
              "3229  Demandezvous Le mouton oui ou non atil mang la...          vous   \n",
              "3234  Et aucune grande personne ne comprendra jamais...  d'importance   \n",
              "\n",
              "                                 answers  \n",
              "9     [le, Fort, la, un, un, appelé, le]  \n",
              "10                    [un, faun, uneait]  \n",
              "11              [texte</s>, unh, dessin]  \n",
              "14              [Comme, Il, Ce, est, On]  \n",
              "15            [dor, ils, il, dorm, donc]  \n",
              "...                                  ...  \n",
              "3217                            [larmes]  \n",
              "3222                           ['un, un]  \n",
              "3223                 [ou, mang, oui, un]  \n",
              "3229       [vous, Vous, quand, puis, le]  \n",
              "3234                      [d'importance]  \n",
              "\n",
              "[1157 rows x 6 columns]"
            ]
          },
          "execution_count": 257,
          "metadata": {},
          "output_type": "execute_result"
        }
      ],
      "source": [
        "df"
      ]
    },
    {
      "cell_type": "markdown",
      "metadata": {
        "id": "UjGlHuWHhUaQ"
      },
      "source": [
        "## Save the output"
      ]
    },
    {
      "cell_type": "code",
      "execution_count": 258,
      "metadata": {
        "colab": {
          "base_uri": "https://localhost:8080/"
        },
        "id": "nKbfkBaUeVMX",
        "outputId": "96c8c065-d0d6-4bfe-9ff0-aee41a8a7969"
      },
      "outputs": [],
      "source": [
        "df.drop(labels = ['original','check'], axis = 1 , inplace = True)"
      ]
    },
    {
      "cell_type": "code",
      "execution_count": 259,
      "metadata": {
        "id": "8SXH38dXhmVG"
      },
      "outputs": [],
      "source": [
        "df.to_csv(\"../data/out/df_QA.csv\", index = False)"
      ]
    },
    {
      "cell_type": "code",
      "execution_count": 272,
      "metadata": {},
      "outputs": [
        {
          "data": {
            "text/plain": [
              "'c:\\\\Users\\\\Giulia\\\\Documents\\\\MyGithub\\\\Français_Exercises\\\\french-exercises\\\\notebooks'"
            ]
          },
          "execution_count": 272,
          "metadata": {},
          "output_type": "execute_result"
        }
      ],
      "source": [
        "os.getcwd()"
      ]
    },
    {
      "cell_type": "code",
      "execution_count": 273,
      "metadata": {},
      "outputs": [],
      "source": [
        "df_QA = pd.read_csv(\"../data/out/df_QA.csv\", header=0)"
      ]
    },
    {
      "cell_type": "code",
      "execution_count": 277,
      "metadata": {},
      "outputs": [],
      "source": [
        "answer_txt = df_QA['answers'].iloc[0][1:-1]\n",
        "answer_list = answer_txt.split(\"'\")\n",
        "answer_set = set(answer_list)\n",
        "answer_set.remove(\", \")\n",
        "answer_set.remove(\"\")\n",
        "answer_list = list(answer_set)\n",
        "if len(answer_list) < 2:\n",
        "    pass\n",
        "# answer_set.shuffle()"
      ]
    },
    {
      "cell_type": "code",
      "execution_count": 278,
      "metadata": {},
      "outputs": [],
      "source": [
        "\n",
        "answer_txt = df_QA['answers'].iloc[rnd][1:-1]\n",
        "answer_list = answer_txt.split(\"'\")\n",
        "answer = df_QA['answer'].iloc[rnd]\n",
        "right = False\n"
      ]
    },
    {
      "cell_type": "code",
      "execution_count": 279,
      "metadata": {},
      "outputs": [
        {
          "data": {
            "text/plain": [
              "0                 la\n",
              "1                 un\n",
              "2             dessin\n",
              "3                 On\n",
              "4                ils\n",
              "            ...     \n",
              "1152          larmes\n",
              "1153              un\n",
              "1154             oui\n",
              "1155            vous\n",
              "1156    d'importance\n",
              "Name: answer, Length: 1157, dtype: object"
            ]
          },
          "execution_count": 279,
          "metadata": {},
          "output_type": "execute_result"
        }
      ],
      "source": [
        "answer"
      ]
    }
  ],
  "metadata": {
    "colab": {
      "provenance": []
    },
    "kernelspec": {
      "display_name": "venv_fe",
      "language": "python",
      "name": "python3"
    },
    "language_info": {
      "codemirror_mode": {
        "name": "ipython",
        "version": 3
      },
      "file_extension": ".py",
      "mimetype": "text/x-python",
      "name": "python",
      "nbconvert_exporter": "python",
      "pygments_lexer": "ipython3",
      "version": "3.9.16"
    },
    "vscode": {
      "interpreter": {
        "hash": "a2b69f948a0540fe6227d8f64756844c29d394dc43155081f3dcbbb5c8a59907"
      }
    }
  },
  "nbformat": 4,
  "nbformat_minor": 0
}
