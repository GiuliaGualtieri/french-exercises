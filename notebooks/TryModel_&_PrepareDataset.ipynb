{
  "cells": [
    {
      "cell_type": "markdown",
      "metadata": {
        "id": "OYL3iB83Vb9Y"
      },
      "source": [
        "# Mask-Filling task"
      ]
    },
    {
      "cell_type": "markdown",
      "metadata": {
        "id": "SQ2ClW60Vb3M"
      },
      "source": [
        "## Import libraries"
      ]
    },
    {
      "cell_type": "code",
      "execution_count": 1,
      "metadata": {
        "id": "r8mkVItPVmv_"
      },
      "outputs": [],
      "source": [
        "import pandas as pd\n",
        "import numpy as np"
      ]
    },
    {
      "cell_type": "code",
      "execution_count": 2,
      "metadata": {
        "id": "uD0eZo-9V9Jh"
      },
      "outputs": [],
      "source": [
        "import random"
      ]
    },
    {
      "cell_type": "code",
      "execution_count": 3,
      "metadata": {
        "id": "qp1ui8RYZWNR"
      },
      "outputs": [],
      "source": [
        "import tqdm"
      ]
    },
    {
      "cell_type": "code",
      "execution_count": 4,
      "metadata": {
        "id": "-YM28M1xVwS4"
      },
      "outputs": [
        {
          "name": "stderr",
          "output_type": "stream",
          "text": [
            "c:\\Users\\Giulia\\AppData\\Local\\Programs\\anaconda3\\envs\\venv_fe\\lib\\site-packages\\tqdm\\auto.py:22: TqdmWarning: IProgress not found. Please update jupyter and ipywidgets. See https://ipywidgets.readthedocs.io/en/stable/user_install.html\n",
            "  from .autonotebook import tqdm as notebook_tqdm\n"
          ]
        }
      ],
      "source": [
        "from transformers import AutoTokenizer, AutoModelForSeq2SeqLM"
      ]
    },
    {
      "cell_type": "code",
      "execution_count": 5,
      "metadata": {
        "id": "6OQeAl3WnN8o"
      },
      "outputs": [],
      "source": [
        "import string"
      ]
    },
    {
      "cell_type": "code",
      "execution_count": 6,
      "metadata": {
        "id": "jiV9-gRvTyRU"
      },
      "outputs": [],
      "source": [
        "import os"
      ]
    },
    {
      "cell_type": "code",
      "execution_count": 7,
      "metadata": {
        "colab": {
          "base_uri": "https://localhost:8080/",
          "height": 35
        },
        "id": "hbi4cpFuTvu0",
        "outputId": "6d8139a7-028d-4df4-b0fa-2b612c20212f"
      },
      "outputs": [
        {
          "data": {
            "text/plain": [
              "'c:\\\\Users\\\\Giulia\\\\Documents\\\\MyGithub\\\\Français_Exercises\\\\french-exercises\\\\notebooks'"
            ]
          },
          "execution_count": 7,
          "metadata": {},
          "output_type": "execute_result"
        }
      ],
      "source": [
        "os.getcwd()"
      ]
    },
    {
      "cell_type": "markdown",
      "metadata": {
        "id": "YVPbLyqRiLL3"
      },
      "source": [
        "## Dataset"
      ]
    },
    {
      "cell_type": "code",
      "execution_count": 8,
      "metadata": {
        "id": "9Rka_NOXeDUS"
      },
      "outputs": [],
      "source": [
        "df = pd.DataFrame(np.zeros((1,1)))\n",
        "with open('../data/input/lepetitprinceexupery.txt', 'r') as f:\n",
        "     lines = f.readlines()\n",
        "     for line in lines:\n",
        "            data = line.strip().split(\"\\t\")\n",
        "            for el in data:\n",
        "                phrases = el.strip().split(\".\")\n",
        "                for phrase in phrases:\n",
        "                    df = pd.DataFrame(np.append(df.values, [[phrase]], axis=0))"
      ]
    },
    {
      "cell_type": "code",
      "execution_count": 9,
      "metadata": {
        "id": "8EK8a_4rnxYC"
      },
      "outputs": [],
      "source": [
        "list_punctuation_to_remove = \"!#$%&()*+-./:;<=>?@[\\]^_{|}~)\""
      ]
    },
    {
      "cell_type": "code",
      "execution_count": 10,
      "metadata": {
        "id": "CB7G_zlrkvrx"
      },
      "outputs": [],
      "source": [
        "def check_row_is_to_remove(row):\n",
        "    # convert and remove punctuation\n",
        "    new_row = row.translate(str.maketrans('','',list_punctuation_to_remove))\n",
        "    # we want it has at least 5 words.\n",
        "    len_row = len(new_row.split())\n",
        "    if len_row < 5:\n",
        "        to_clean = True\n",
        "    else:\n",
        "        to_clean = False\n",
        "    return [to_clean, new_row]"
      ]
    },
    {
      "cell_type": "code",
      "execution_count": 11,
      "metadata": {
        "id": "mSUDWCEcqbkO"
      },
      "outputs": [],
      "source": [
        "df.rename(columns = {0:'original'}, inplace = True)"
      ]
    },
    {
      "cell_type": "code",
      "execution_count": 12,
      "metadata": {
        "id": "IgGTKEWoqiC1"
      },
      "outputs": [],
      "source": [
        "df[['check','new']] = [[check_row_is_to_remove(el)[0],check_row_is_to_remove(el)[1]] for el in df['original']]"
      ]
    },
    {
      "cell_type": "code",
      "execution_count": 13,
      "metadata": {
        "id": "iCfghgmXreTG"
      },
      "outputs": [],
      "source": [
        "df = df.loc[df['check']== False]"
      ]
    },
    {
      "cell_type": "code",
      "execution_count": 14,
      "metadata": {
        "colab": {
          "base_uri": "https://localhost:8080/",
          "height": 206
        },
        "id": "JjkHJzcurzAf",
        "outputId": "8f5ba7b3-92f8-492c-9582-0eccef5f6486"
      },
      "outputs": [
        {
          "data": {
            "text/html": [
              "<div>\n",
              "<style scoped>\n",
              "    .dataframe tbody tr th:only-of-type {\n",
              "        vertical-align: middle;\n",
              "    }\n",
              "\n",
              "    .dataframe tbody tr th {\n",
              "        vertical-align: top;\n",
              "    }\n",
              "\n",
              "    .dataframe thead th {\n",
              "        text-align: right;\n",
              "    }\n",
              "</style>\n",
              "<table border=\"1\" class=\"dataframe\">\n",
              "  <thead>\n",
              "    <tr style=\"text-align: right;\">\n",
              "      <th></th>\n",
              "      <th>original</th>\n",
              "      <th>check</th>\n",
              "      <th>new</th>\n",
              "    </tr>\n",
              "  </thead>\n",
              "  <tbody>\n",
              "    <tr>\n",
              "      <th>9</th>\n",
              "      <td>Lorsque j'avais six ans j'ai vu, une fois, une...</td>\n",
              "      <td>False</td>\n",
              "      <td>Lorsque j'avais six ans j'ai vu, une fois, une...</td>\n",
              "    </tr>\n",
              "    <tr>\n",
              "      <th>10</th>\n",
              "      <td>Ça représentait un serpent boa qui avalait un...</td>\n",
              "      <td>False</td>\n",
              "      <td>Ça représentait un serpent boa qui avalait un...</td>\n",
              "    </tr>\n",
              "    <tr>\n",
              "      <th>11</th>\n",
              "      <td>Voilà la copie du dessin</td>\n",
              "      <td>False</td>\n",
              "      <td>Voilà la copie du dessin</td>\n",
              "    </tr>\n",
              "    <tr>\n",
              "      <th>14</th>\n",
              "      <td>On disait dans le livre :\"Les serpents boas av...</td>\n",
              "      <td>False</td>\n",
              "      <td>On disait dans le livre \"Les serpents boas ava...</td>\n",
              "    </tr>\n",
              "    <tr>\n",
              "      <th>15</th>\n",
              "      <td>Ensuite ils ne peuvent plus bouger et ils dor...</td>\n",
              "      <td>False</td>\n",
              "      <td>Ensuite ils ne peuvent plus bouger et ils dor...</td>\n",
              "    </tr>\n",
              "  </tbody>\n",
              "</table>\n",
              "</div>"
            ],
            "text/plain": [
              "                                             original  check  \\\n",
              "9   Lorsque j'avais six ans j'ai vu, une fois, une...  False   \n",
              "10   Ça représentait un serpent boa qui avalait un...  False   \n",
              "11                           Voilà la copie du dessin  False   \n",
              "14  On disait dans le livre :\"Les serpents boas av...  False   \n",
              "15   Ensuite ils ne peuvent plus bouger et ils dor...  False   \n",
              "\n",
              "                                                  new  \n",
              "9   Lorsque j'avais six ans j'ai vu, une fois, une...  \n",
              "10   Ça représentait un serpent boa qui avalait un...  \n",
              "11                           Voilà la copie du dessin  \n",
              "14  On disait dans le livre \"Les serpents boas ava...  \n",
              "15   Ensuite ils ne peuvent plus bouger et ils dor...  "
            ]
          },
          "execution_count": 14,
          "metadata": {},
          "output_type": "execute_result"
        }
      ],
      "source": [
        "df.head(5)"
      ]
    },
    {
      "cell_type": "code",
      "execution_count": 15,
      "metadata": {
        "colab": {
          "base_uri": "https://localhost:8080/",
          "height": 53
        },
        "id": "ahydWUGPVAVJ",
        "outputId": "30a6f958-b2cb-407f-cdb0-eef2a9cae203"
      },
      "outputs": [
        {
          "data": {
            "text/plain": [
              "'Lorsque j\\'avais six ans j\\'ai vu, une fois, une magnifique image, dans un livre sur la Forêt Vierge qui s\\'appelait\"Histoires Vécues\"'"
            ]
          },
          "execution_count": 15,
          "metadata": {},
          "output_type": "execute_result"
        }
      ],
      "source": [
        "df['original'].iloc[0]"
      ]
    },
    {
      "cell_type": "markdown",
      "metadata": {
        "id": "wf8tAs1GVnKz"
      },
      "source": [
        "## Model"
      ]
    },
    {
      "cell_type": "code",
      "execution_count": 16,
      "metadata": {
        "id": "QIrngj3xTmir"
      },
      "outputs": [],
      "source": [
        "tokenizer = AutoTokenizer.from_pretrained(\"moussaKam/mbarthez\")\n",
        "\n",
        "model = AutoModelForSeq2SeqLM.from_pretrained(\"moussaKam/mbarthez\")"
      ]
    },
    {
      "cell_type": "markdown",
      "metadata": {
        "id": "1elPrP1NVQzT"
      },
      "source": [
        "Example of BART model for mask-filling task in NLP."
      ]
    },
    {
      "cell_type": "markdown",
      "metadata": {
        "id": "5NEhq7CsWItb"
      },
      "source": [
        "A french sequence to sequence pretrained model based on BART.\n",
        "BARThez is pretrained by learning to reconstruct a corrupted input sentence. A corpus of 66GB of french raw text is used to carry out the pretraining.\n",
        "Unlike already existing BERT-based French language models such as CamemBERT and FlauBERT, BARThez is particularly well-suited for generative tasks (such as abstractive summarization), since not only its encoder but also its decoder is pretrained."
      ]
    },
    {
      "cell_type": "markdown",
      "metadata": {
        "id": "O6_TlPQ8bwgG"
      },
      "source": [
        "## Decode the input"
      ]
    },
    {
      "cell_type": "code",
      "execution_count": 17,
      "metadata": {
        "id": "WR8ujUdIcJCY"
      },
      "outputs": [],
      "source": [
        "def f_decode_input(txt):\n",
        "    input_ids = tokenizer([txt], return_tensors=\"pt\")[\"input_ids\"]\n",
        "    logits = model(input_ids).logits\n",
        "    masked_index = (input_ids[0] == tokenizer.mask_token_id).nonzero().item()\n",
        "    probs = logits[0, masked_index].softmax(dim=0)\n",
        "    values, predictions = probs.topk(5)\n",
        "    return tokenizer.decode(predictions).split()"
      ]
    },
    {
      "cell_type": "markdown",
      "metadata": {
        "id": "nS7nZQhfUO-Y"
      },
      "source": [
        "## Example"
      ]
    },
    {
      "cell_type": "code",
      "execution_count": 33,
      "metadata": {
        "id": "jCkrNKygVzP_"
      },
      "outputs": [],
      "source": [
        "TXT = \"Lorsque j'avais six ans j'ai vu, une fois, une <mask> image.\""
      ]
    },
    {
      "cell_type": "code",
      "execution_count": 34,
      "metadata": {
        "id": "W02rv5xHb2BM"
      },
      "outputs": [],
      "source": [
        "TXT2 = \"J'ai montré mon chef-d'oeuvre aux grandes <mask> et je leur ai demandé si mon dessin leur faisait peur.\""
      ]
    },
    {
      "cell_type": "code",
      "execution_count": 35,
      "metadata": {
        "id": "vHXjZ1fEd8fz"
      },
      "outputs": [],
      "source": [
        "TXT3 = \"je faisais l'expérience sur <mask> de mon dessin numéro Un\""
      ]
    },
    {
      "cell_type": "code",
      "execution_count": 36,
      "metadata": {
        "colab": {
          "base_uri": "https://localhost:8080/"
        },
        "id": "ZdTZVv46b3Yj",
        "outputId": "3ff5e57c-bb1a-4f3c-8c53-4ecb94c97ebb"
      },
      "outputs": [
        {
          "name": "stdout",
          "output_type": "stream",
          "text": [
            "['image', 'fois', 'seule', 'autre', 'photo']\n",
            "['personnes', 'écoles', 'et', 'heures']\n",
            "['la', 'le', 'l', 'de', 'les']\n"
          ]
        }
      ],
      "source": [
        "for txt in [TXT, TXT2, TXT3]:\n",
        "    print(f_decode_input(txt))"
      ]
    },
    {
      "cell_type": "markdown",
      "metadata": {
        "id": "DnvhTx6sVNco"
      },
      "source": [
        "## Training"
      ]
    },
    {
      "cell_type": "code",
      "execution_count": 19,
      "metadata": {
        "id": "FqpQrpy-VKzW"
      },
      "outputs": [],
      "source": [
        "dict_QA = {'question' : [], 'answer' : []}\n",
        "\n",
        "for row in df.iterrows():\n",
        "    words = row[1]['new'].split()\n",
        "    rnd = random.randint(0,len(words)-1)\n",
        "    to_mask = words[rnd]\n",
        "    while len(to_mask)<2:\n",
        "        rnd = random.randint(0,len(words)-1)\n",
        "        to_mask = words[rnd]    \n",
        "    words[rnd] = '<mask>'\n",
        "    to_txt = ''\n",
        "    for el in words:\n",
        "        to_txt += el + ' '\n",
        "    txt = to_txt[:-1]\n",
        "    predictions = f_decode_input(txt)\n",
        "    if to_mask not in predictions:\n",
        "        predictions = predictions[:-1]\n",
        "        predictions.append(to_mask)\n",
        "    dict_QA['question'].append(txt)\n",
        "    dict_QA['answer'].append(predictions)"
      ]
    },
    {
      "cell_type": "markdown",
      "metadata": {
        "id": "Ld66QoIwY2QN"
      },
      "source": [
        "## End"
      ]
    },
    {
      "cell_type": "code",
      "execution_count": 57,
      "metadata": {
        "colab": {
          "base_uri": "https://localhost:8080/"
        },
        "id": "R8dq-FF4YFSO",
        "outputId": "61db3637-c6bb-494a-b747-d19ea6f628ae"
      },
      "outputs": [
        {
          "name": "stderr",
          "output_type": "stream",
          "text": [
            "<ipython-input-57-a3918db5873b>:1: SettingWithCopyWarning: \n",
            "A value is trying to be set on a copy of a slice from a DataFrame.\n",
            "Try using .loc[row_indexer,col_indexer] = value instead\n",
            "\n",
            "See the caveats in the documentation: https://pandas.pydata.org/pandas-docs/stable/user_guide/indexing.html#returning-a-view-versus-a-copy\n",
            "  df['question'] = dict_QA['question']\n"
          ]
        }
      ],
      "source": [
        "df['question'] = dict_QA['question']"
      ]
    },
    {
      "cell_type": "code",
      "execution_count": 61,
      "metadata": {
        "colab": {
          "base_uri": "https://localhost:8080/"
        },
        "id": "_5Fg_QCHeQfw",
        "outputId": "6d6ba393-8f8f-4b67-94e9-043b6ed020bb"
      },
      "outputs": [
        {
          "name": "stderr",
          "output_type": "stream",
          "text": [
            "<ipython-input-61-7305735fe1af>:1: SettingWithCopyWarning: \n",
            "A value is trying to be set on a copy of a slice from a DataFrame.\n",
            "Try using .loc[row_indexer,col_indexer] = value instead\n",
            "\n",
            "See the caveats in the documentation: https://pandas.pydata.org/pandas-docs/stable/user_guide/indexing.html#returning-a-view-versus-a-copy\n",
            "  df['answer'] = dict_QA['answer']\n"
          ]
        }
      ],
      "source": [
        "df['answer'] = dict_QA['answer'].astype()"
      ]
    },
    {
      "cell_type": "markdown",
      "metadata": {
        "id": "UjGlHuWHhUaQ"
      },
      "source": [
        "## Save the output"
      ]
    },
    {
      "cell_type": "code",
      "execution_count": 63,
      "metadata": {
        "colab": {
          "base_uri": "https://localhost:8080/"
        },
        "id": "nKbfkBaUeVMX",
        "outputId": "96c8c065-d0d6-4bfe-9ff0-aee41a8a7969"
      },
      "outputs": [
        {
          "name": "stderr",
          "output_type": "stream",
          "text": [
            "/usr/local/lib/python3.8/dist-packages/pandas/core/frame.py:4906: SettingWithCopyWarning: \n",
            "A value is trying to be set on a copy of a slice from a DataFrame\n",
            "\n",
            "See the caveats in the documentation: https://pandas.pydata.org/pandas-docs/stable/user_guide/indexing.html#returning-a-view-versus-a-copy\n",
            "  return super().drop(\n"
          ]
        }
      ],
      "source": [
        "df.drop(labels = ['original','check'], axis = 1 , inplace = True)"
      ]
    },
    {
      "cell_type": "code",
      "execution_count": 66,
      "metadata": {
        "id": "8SXH38dXhmVG"
      },
      "outputs": [],
      "source": [
        "df.to_csv(\"output/df_QA.csv\", index = False)"
      ]
    }
  ],
  "metadata": {
    "colab": {
      "provenance": []
    },
    "kernelspec": {
      "display_name": "venv_fe",
      "language": "python",
      "name": "python3"
    },
    "language_info": {
      "codemirror_mode": {
        "name": "ipython",
        "version": 3
      },
      "file_extension": ".py",
      "mimetype": "text/x-python",
      "name": "python",
      "nbconvert_exporter": "python",
      "pygments_lexer": "ipython3",
      "version": "3.9.16"
    },
    "vscode": {
      "interpreter": {
        "hash": "a2b69f948a0540fe6227d8f64756844c29d394dc43155081f3dcbbb5c8a59907"
      }
    }
  },
  "nbformat": 4,
  "nbformat_minor": 0
}
