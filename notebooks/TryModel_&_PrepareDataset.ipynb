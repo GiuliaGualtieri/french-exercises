{
  "cells": [
    {
      "cell_type": "markdown",
      "metadata": {
        "id": "OYL3iB83Vb9Y"
      },
      "source": [
        "# Mask-Filling task"
      ]
    },
    {
      "cell_type": "markdown",
      "metadata": {
        "id": "SQ2ClW60Vb3M"
      },
      "source": [
        "## Import libraries"
      ]
    },
    {
      "cell_type": "code",
      "execution_count": 1,
      "metadata": {
        "id": "r8mkVItPVmv_"
      },
      "outputs": [],
      "source": [
        "import pandas as pd\n",
        "import numpy as np"
      ]
    },
    {
      "cell_type": "code",
      "execution_count": 43,
      "metadata": {
        "id": "uD0eZo-9V9Jh"
      },
      "outputs": [],
      "source": [
        "import random"
      ]
    },
    {
      "cell_type": "code",
      "execution_count": null,
      "metadata": {
        "id": "qp1ui8RYZWNR"
      },
      "outputs": [],
      "source": [
        "import tqdm"
      ]
    },
    {
      "cell_type": "code",
      "execution_count": 2,
      "metadata": {
        "colab": {
          "base_uri": "https://localhost:8080/"
        },
        "id": "b5mZ9CRDWbEN",
        "outputId": "121a8993-e1c7-4ca5-e159-59060a32b754"
      },
      "outputs": [
        {
          "name": "stdout",
          "output_type": "stream",
          "text": [
            "Looking in indexes: https://pypi.org/simple, https://us-python.pkg.dev/colab-wheels/public/simple/\n",
            "Collecting transformers\n",
            "  Downloading transformers-4.26.0-py3-none-any.whl (6.3 MB)\n",
            "\u001b[2K     \u001b[90m━━━━━━━━━━━━━━━━━━━━━━━━━━━━━━━━━━━━━━━━\u001b[0m \u001b[32m6.3/6.3 MB\u001b[0m \u001b[31m29.7 MB/s\u001b[0m eta \u001b[36m0:00:00\u001b[0m\n",
            "\u001b[?25hCollecting huggingface-hub<1.0,>=0.11.0\n",
            "  Downloading huggingface_hub-0.12.0-py3-none-any.whl (190 kB)\n",
            "\u001b[2K     \u001b[90m━━━━━━━━━━━━━━━━━━━━━━━━━━━━━━━━━━━━━━━\u001b[0m \u001b[32m190.3/190.3 KB\u001b[0m \u001b[31m5.6 MB/s\u001b[0m eta \u001b[36m0:00:00\u001b[0m\n",
            "\u001b[?25hRequirement already satisfied: packaging>=20.0 in /usr/local/lib/python3.8/dist-packages (from transformers) (23.0)\n",
            "Requirement already satisfied: requests in /usr/local/lib/python3.8/dist-packages (from transformers) (2.25.1)\n",
            "Requirement already satisfied: pyyaml>=5.1 in /usr/local/lib/python3.8/dist-packages (from transformers) (6.0)\n",
            "Collecting tokenizers!=0.11.3,<0.14,>=0.11.1\n",
            "  Downloading tokenizers-0.13.2-cp38-cp38-manylinux_2_17_x86_64.manylinux2014_x86_64.whl (7.6 MB)\n",
            "\u001b[2K     \u001b[90m━━━━━━━━━━━━━━━━━━━━━━━━━━━━━━━━━━━━━━━━\u001b[0m \u001b[32m7.6/7.6 MB\u001b[0m \u001b[31m44.8 MB/s\u001b[0m eta \u001b[36m0:00:00\u001b[0m\n",
            "\u001b[?25hRequirement already satisfied: numpy>=1.17 in /usr/local/lib/python3.8/dist-packages (from transformers) (1.21.6)\n",
            "Requirement already satisfied: filelock in /usr/local/lib/python3.8/dist-packages (from transformers) (3.9.0)\n",
            "Requirement already satisfied: tqdm>=4.27 in /usr/local/lib/python3.8/dist-packages (from transformers) (4.64.1)\n",
            "Requirement already satisfied: regex!=2019.12.17 in /usr/local/lib/python3.8/dist-packages (from transformers) (2022.6.2)\n",
            "Requirement already satisfied: typing-extensions>=3.7.4.3 in /usr/local/lib/python3.8/dist-packages (from huggingface-hub<1.0,>=0.11.0->transformers) (4.4.0)\n",
            "Requirement already satisfied: certifi>=2017.4.17 in /usr/local/lib/python3.8/dist-packages (from requests->transformers) (2022.12.7)\n",
            "Requirement already satisfied: chardet<5,>=3.0.2 in /usr/local/lib/python3.8/dist-packages (from requests->transformers) (4.0.0)\n",
            "Requirement already satisfied: idna<3,>=2.5 in /usr/local/lib/python3.8/dist-packages (from requests->transformers) (2.10)\n",
            "Requirement already satisfied: urllib3<1.27,>=1.21.1 in /usr/local/lib/python3.8/dist-packages (from requests->transformers) (1.24.3)\n",
            "Installing collected packages: tokenizers, huggingface-hub, transformers\n",
            "Successfully installed huggingface-hub-0.12.0 tokenizers-0.13.2 transformers-4.26.0\n"
          ]
        }
      ],
      "source": [
        "!pip install transformers"
      ]
    },
    {
      "cell_type": "code",
      "execution_count": 3,
      "metadata": {
        "id": "-YM28M1xVwS4"
      },
      "outputs": [],
      "source": [
        "from transformers import AutoTokenizer, AutoModelForSeq2SeqLM"
      ]
    },
    {
      "cell_type": "code",
      "execution_count": 15,
      "metadata": {
        "id": "6OQeAl3WnN8o"
      },
      "outputs": [],
      "source": [
        "import string"
      ]
    },
    {
      "cell_type": "code",
      "execution_count": 10,
      "metadata": {
        "id": "jiV9-gRvTyRU"
      },
      "outputs": [],
      "source": [
        "import os"
      ]
    },
    {
      "cell_type": "code",
      "execution_count": 11,
      "metadata": {
        "colab": {
          "base_uri": "https://localhost:8080/",
          "height": 35
        },
        "id": "hbi4cpFuTvu0",
        "outputId": "6d8139a7-028d-4df4-b0fa-2b612c20212f"
      },
      "outputs": [
        {
          "data": {
            "application/vnd.google.colaboratory.intrinsic+json": {
              "type": "string"
            },
            "text/plain": [
              "'/content'"
            ]
          },
          "execution_count": 11,
          "metadata": {},
          "output_type": "execute_result"
        }
      ],
      "source": [
        "os.getcwd()"
      ]
    },
    {
      "cell_type": "markdown",
      "metadata": {
        "id": "YVPbLyqRiLL3"
      },
      "source": [
        "## Dataset"
      ]
    },
    {
      "cell_type": "code",
      "execution_count": 12,
      "metadata": {
        "id": "9Rka_NOXeDUS"
      },
      "outputs": [],
      "source": [
        "df = pd.DataFrame(np.zeros((1,1)))\n",
        "with open('data/lepetitprinceexupery.txt', 'r') as f:\n",
        "     lines = f.readlines()\n",
        "     for line in lines:\n",
        "            data = line.strip().split(\"\\t\")\n",
        "            for el in data:\n",
        "                phrases = el.strip().split(\".\")\n",
        "                for phrase in phrases:\n",
        "                    df = pd.DataFrame(np.append(df.values, [[phrase]], axis=0))"
      ]
    },
    {
      "cell_type": "code",
      "execution_count": 16,
      "metadata": {
        "id": "8EK8a_4rnxYC"
      },
      "outputs": [],
      "source": [
        "list_punctuation_to_remove = \"!#$%&()*+-./:;<=>?@[\\]^_{|}~)\""
      ]
    },
    {
      "cell_type": "code",
      "execution_count": 17,
      "metadata": {
        "id": "CB7G_zlrkvrx"
      },
      "outputs": [],
      "source": [
        "def check_row_is_to_remove(row):\n",
        "    # convert and remove punctuation\n",
        "    new_row = row.translate(str.maketrans('','',list_punctuation_to_remove))\n",
        "    # we want it has at least 5 words.\n",
        "    len_row = len(new_row.split())\n",
        "    if len_row < 5:\n",
        "        to_clean = True\n",
        "    else:\n",
        "        to_clean = False\n",
        "    return [to_clean, new_row]"
      ]
    },
    {
      "cell_type": "code",
      "execution_count": 18,
      "metadata": {
        "id": "mSUDWCEcqbkO"
      },
      "outputs": [],
      "source": [
        "df.rename(columns = {0:'original'}, inplace = True)"
      ]
    },
    {
      "cell_type": "code",
      "execution_count": 19,
      "metadata": {
        "id": "IgGTKEWoqiC1"
      },
      "outputs": [],
      "source": [
        "df[['check','new']] = [[check_row_is_to_remove(el)[0],check_row_is_to_remove(el)[1]] for el in df['original']]"
      ]
    },
    {
      "cell_type": "code",
      "execution_count": 20,
      "metadata": {
        "id": "iCfghgmXreTG"
      },
      "outputs": [],
      "source": [
        "df = df.loc[df['check']== False]"
      ]
    },
    {
      "cell_type": "code",
      "execution_count": 22,
      "metadata": {
        "colab": {
          "base_uri": "https://localhost:8080/",
          "height": 206
        },
        "id": "JjkHJzcurzAf",
        "outputId": "8f5ba7b3-92f8-492c-9582-0eccef5f6486"
      },
      "outputs": [
        {
          "data": {
            "text/html": [
              "\n",
              "  <div id=\"df-5670cd32-6f49-4ece-b2b1-501276e76545\">\n",
              "    <div class=\"colab-df-container\">\n",
              "      <div>\n",
              "<style scoped>\n",
              "    .dataframe tbody tr th:only-of-type {\n",
              "        vertical-align: middle;\n",
              "    }\n",
              "\n",
              "    .dataframe tbody tr th {\n",
              "        vertical-align: top;\n",
              "    }\n",
              "\n",
              "    .dataframe thead th {\n",
              "        text-align: right;\n",
              "    }\n",
              "</style>\n",
              "<table border=\"1\" class=\"dataframe\">\n",
              "  <thead>\n",
              "    <tr style=\"text-align: right;\">\n",
              "      <th></th>\n",
              "      <th>original</th>\n",
              "      <th>check</th>\n",
              "      <th>new</th>\n",
              "    </tr>\n",
              "  </thead>\n",
              "  <tbody>\n",
              "    <tr>\n",
              "      <th>9</th>\n",
              "      <td>Lorsque j'avais six ans j'ai vu, une fois, une...</td>\n",
              "      <td>False</td>\n",
              "      <td>Lorsque j'avais six ans j'ai vu, une fois, une...</td>\n",
              "    </tr>\n",
              "    <tr>\n",
              "      <th>10</th>\n",
              "      <td>Ça représentait un serpent boa qui avalait un...</td>\n",
              "      <td>False</td>\n",
              "      <td>Ça représentait un serpent boa qui avalait un...</td>\n",
              "    </tr>\n",
              "    <tr>\n",
              "      <th>11</th>\n",
              "      <td>Voilà la copie du dessin</td>\n",
              "      <td>False</td>\n",
              "      <td>Voilà la copie du dessin</td>\n",
              "    </tr>\n",
              "    <tr>\n",
              "      <th>14</th>\n",
              "      <td>On disait dans le livre :\"Les serpents boas av...</td>\n",
              "      <td>False</td>\n",
              "      <td>On disait dans le livre \"Les serpents boas ava...</td>\n",
              "    </tr>\n",
              "    <tr>\n",
              "      <th>15</th>\n",
              "      <td>Ensuite ils ne peuvent plus bouger et ils dor...</td>\n",
              "      <td>False</td>\n",
              "      <td>Ensuite ils ne peuvent plus bouger et ils dor...</td>\n",
              "    </tr>\n",
              "  </tbody>\n",
              "</table>\n",
              "</div>\n",
              "      <button class=\"colab-df-convert\" onclick=\"convertToInteractive('df-5670cd32-6f49-4ece-b2b1-501276e76545')\"\n",
              "              title=\"Convert this dataframe to an interactive table.\"\n",
              "              style=\"display:none;\">\n",
              "        \n",
              "  <svg xmlns=\"http://www.w3.org/2000/svg\" height=\"24px\"viewBox=\"0 0 24 24\"\n",
              "       width=\"24px\">\n",
              "    <path d=\"M0 0h24v24H0V0z\" fill=\"none\"/>\n",
              "    <path d=\"M18.56 5.44l.94 2.06.94-2.06 2.06-.94-2.06-.94-.94-2.06-.94 2.06-2.06.94zm-11 1L8.5 8.5l.94-2.06 2.06-.94-2.06-.94L8.5 2.5l-.94 2.06-2.06.94zm10 10l.94 2.06.94-2.06 2.06-.94-2.06-.94-.94-2.06-.94 2.06-2.06.94z\"/><path d=\"M17.41 7.96l-1.37-1.37c-.4-.4-.92-.59-1.43-.59-.52 0-1.04.2-1.43.59L10.3 9.45l-7.72 7.72c-.78.78-.78 2.05 0 2.83L4 21.41c.39.39.9.59 1.41.59.51 0 1.02-.2 1.41-.59l7.78-7.78 2.81-2.81c.8-.78.8-2.07 0-2.86zM5.41 20L4 18.59l7.72-7.72 1.47 1.35L5.41 20z\"/>\n",
              "  </svg>\n",
              "      </button>\n",
              "      \n",
              "  <style>\n",
              "    .colab-df-container {\n",
              "      display:flex;\n",
              "      flex-wrap:wrap;\n",
              "      gap: 12px;\n",
              "    }\n",
              "\n",
              "    .colab-df-convert {\n",
              "      background-color: #E8F0FE;\n",
              "      border: none;\n",
              "      border-radius: 50%;\n",
              "      cursor: pointer;\n",
              "      display: none;\n",
              "      fill: #1967D2;\n",
              "      height: 32px;\n",
              "      padding: 0 0 0 0;\n",
              "      width: 32px;\n",
              "    }\n",
              "\n",
              "    .colab-df-convert:hover {\n",
              "      background-color: #E2EBFA;\n",
              "      box-shadow: 0px 1px 2px rgba(60, 64, 67, 0.3), 0px 1px 3px 1px rgba(60, 64, 67, 0.15);\n",
              "      fill: #174EA6;\n",
              "    }\n",
              "\n",
              "    [theme=dark] .colab-df-convert {\n",
              "      background-color: #3B4455;\n",
              "      fill: #D2E3FC;\n",
              "    }\n",
              "\n",
              "    [theme=dark] .colab-df-convert:hover {\n",
              "      background-color: #434B5C;\n",
              "      box-shadow: 0px 1px 3px 1px rgba(0, 0, 0, 0.15);\n",
              "      filter: drop-shadow(0px 1px 2px rgba(0, 0, 0, 0.3));\n",
              "      fill: #FFFFFF;\n",
              "    }\n",
              "  </style>\n",
              "\n",
              "      <script>\n",
              "        const buttonEl =\n",
              "          document.querySelector('#df-5670cd32-6f49-4ece-b2b1-501276e76545 button.colab-df-convert');\n",
              "        buttonEl.style.display =\n",
              "          google.colab.kernel.accessAllowed ? 'block' : 'none';\n",
              "\n",
              "        async function convertToInteractive(key) {\n",
              "          const element = document.querySelector('#df-5670cd32-6f49-4ece-b2b1-501276e76545');\n",
              "          const dataTable =\n",
              "            await google.colab.kernel.invokeFunction('convertToInteractive',\n",
              "                                                     [key], {});\n",
              "          if (!dataTable) return;\n",
              "\n",
              "          const docLinkHtml = 'Like what you see? Visit the ' +\n",
              "            '<a target=\"_blank\" href=https://colab.research.google.com/notebooks/data_table.ipynb>data table notebook</a>'\n",
              "            + ' to learn more about interactive tables.';\n",
              "          element.innerHTML = '';\n",
              "          dataTable['output_type'] = 'display_data';\n",
              "          await google.colab.output.renderOutput(dataTable, element);\n",
              "          const docLink = document.createElement('div');\n",
              "          docLink.innerHTML = docLinkHtml;\n",
              "          element.appendChild(docLink);\n",
              "        }\n",
              "      </script>\n",
              "    </div>\n",
              "  </div>\n",
              "  "
            ],
            "text/plain": [
              "                                             original  check  \\\n",
              "9   Lorsque j'avais six ans j'ai vu, une fois, une...  False   \n",
              "10   Ça représentait un serpent boa qui avalait un...  False   \n",
              "11                           Voilà la copie du dessin  False   \n",
              "14  On disait dans le livre :\"Les serpents boas av...  False   \n",
              "15   Ensuite ils ne peuvent plus bouger et ils dor...  False   \n",
              "\n",
              "                                                  new  \n",
              "9   Lorsque j'avais six ans j'ai vu, une fois, une...  \n",
              "10   Ça représentait un serpent boa qui avalait un...  \n",
              "11                           Voilà la copie du dessin  \n",
              "14  On disait dans le livre \"Les serpents boas ava...  \n",
              "15   Ensuite ils ne peuvent plus bouger et ils dor...  "
            ]
          },
          "execution_count": 22,
          "metadata": {},
          "output_type": "execute_result"
        }
      ],
      "source": [
        "df.head(5)"
      ]
    },
    {
      "cell_type": "code",
      "execution_count": 40,
      "metadata": {
        "colab": {
          "base_uri": "https://localhost:8080/",
          "height": 53
        },
        "id": "ahydWUGPVAVJ",
        "outputId": "30a6f958-b2cb-407f-cdb0-eef2a9cae203"
      },
      "outputs": [
        {
          "data": {
            "application/vnd.google.colaboratory.intrinsic+json": {
              "type": "string"
            },
            "text/plain": [
              "'Lorsque j\\'avais six ans j\\'ai vu, une fois, une magnifique image, dans un livre sur la Forêt Vierge qui s\\'appelait\"Histoires Vécues\"'"
            ]
          },
          "execution_count": 40,
          "metadata": {},
          "output_type": "execute_result"
        }
      ],
      "source": [
        "df['original'].iloc[0]"
      ]
    },
    {
      "cell_type": "markdown",
      "metadata": {
        "id": "wf8tAs1GVnKz"
      },
      "source": [
        "## Model"
      ]
    },
    {
      "cell_type": "code",
      "execution_count": 23,
      "metadata": {
        "id": "QIrngj3xTmir"
      },
      "outputs": [],
      "source": [
        "tokenizer = AutoTokenizer.from_pretrained(\"moussaKam/mbarthez\")\n",
        "\n",
        "model = AutoModelForSeq2SeqLM.from_pretrained(\"moussaKam/mbarthez\")"
      ]
    },
    {
      "cell_type": "markdown",
      "metadata": {
        "id": "1elPrP1NVQzT"
      },
      "source": [
        "Example of BART model for mask-filling task in NLP."
      ]
    },
    {
      "cell_type": "markdown",
      "metadata": {
        "id": "5NEhq7CsWItb"
      },
      "source": [
        "A french sequence to sequence pretrained model based on BART.\n",
        "BARThez is pretrained by learning to reconstruct a corrupted input sentence. A corpus of 66GB of french raw text is used to carry out the pretraining.\n",
        "Unlike already existing BERT-based French language models such as CamemBERT and FlauBERT, BARThez is particularly well-suited for generative tasks (such as abstractive summarization), since not only its encoder but also its decoder is pretrained."
      ]
    },
    {
      "cell_type": "markdown",
      "metadata": {
        "id": "O6_TlPQ8bwgG"
      },
      "source": [
        "## Decode the input"
      ]
    },
    {
      "cell_type": "code",
      "execution_count": 24,
      "metadata": {
        "id": "WR8ujUdIcJCY"
      },
      "outputs": [],
      "source": [
        "def f_decode_input(txt):\n",
        "    input_ids = tokenizer([txt], return_tensors=\"pt\")[\"input_ids\"]\n",
        "    logits = model(input_ids).logits\n",
        "    masked_index = (input_ids[0] == tokenizer.mask_token_id).nonzero().item()\n",
        "    probs = logits[0, masked_index].softmax(dim=0)\n",
        "    values, predictions = probs.topk(5)\n",
        "    return tokenizer.decode(predictions).split()"
      ]
    },
    {
      "cell_type": "markdown",
      "metadata": {
        "id": "nS7nZQhfUO-Y"
      },
      "source": [
        "## Example"
      ]
    },
    {
      "cell_type": "code",
      "execution_count": 33,
      "metadata": {
        "id": "jCkrNKygVzP_"
      },
      "outputs": [],
      "source": [
        "TXT = \"Lorsque j'avais six ans j'ai vu, une fois, une <mask> image.\""
      ]
    },
    {
      "cell_type": "code",
      "execution_count": 34,
      "metadata": {
        "id": "W02rv5xHb2BM"
      },
      "outputs": [],
      "source": [
        "TXT2 = \"J'ai montré mon chef-d'oeuvre aux grandes <mask> et je leur ai demandé si mon dessin leur faisait peur.\""
      ]
    },
    {
      "cell_type": "code",
      "execution_count": 35,
      "metadata": {
        "id": "vHXjZ1fEd8fz"
      },
      "outputs": [],
      "source": [
        "TXT3 = \"je faisais l'expérience sur <mask> de mon dessin numéro Un\""
      ]
    },
    {
      "cell_type": "code",
      "execution_count": 36,
      "metadata": {
        "colab": {
          "base_uri": "https://localhost:8080/"
        },
        "id": "ZdTZVv46b3Yj",
        "outputId": "3ff5e57c-bb1a-4f3c-8c53-4ecb94c97ebb"
      },
      "outputs": [
        {
          "name": "stdout",
          "output_type": "stream",
          "text": [
            "['image', 'fois', 'seule', 'autre', 'photo']\n",
            "['personnes', 'écoles', 'et', 'heures']\n",
            "['la', 'le', 'l', 'de', 'les']\n"
          ]
        }
      ],
      "source": [
        "for txt in [TXT, TXT2, TXT3]:\n",
        "    print(f_decode_input(txt))"
      ]
    },
    {
      "cell_type": "markdown",
      "metadata": {
        "id": "DnvhTx6sVNco"
      },
      "source": [
        "## Training"
      ]
    },
    {
      "cell_type": "code",
      "execution_count": 55,
      "metadata": {
        "id": "FqpQrpy-VKzW"
      },
      "outputs": [],
      "source": [
        "dict_QA = {'question' : [], 'answer' : []}\n",
        "\n",
        "for row in df.iterrows():\n",
        "    words = row[1]['new'].split()\n",
        "    rnd = random.randint(0,len(words)-1)\n",
        "    to_mask = words[rnd]\n",
        "    words[rnd] = '<mask>'\n",
        "    to_txt = ''\n",
        "    for el in words:\n",
        "        to_txt += el + ' '\n",
        "    txt = to_txt[:-1]\n",
        "    predictions = f_decode_input(txt)\n",
        "    predictions.append(to_mask)\n",
        "    dict_QA['question'].append(txt)\n",
        "    dict_QA['answer'].append(predictions)"
      ]
    },
    {
      "cell_type": "markdown",
      "metadata": {
        "id": "Ld66QoIwY2QN"
      },
      "source": [
        "## End"
      ]
    },
    {
      "cell_type": "code",
      "execution_count": 57,
      "metadata": {
        "colab": {
          "base_uri": "https://localhost:8080/"
        },
        "id": "R8dq-FF4YFSO",
        "outputId": "61db3637-c6bb-494a-b747-d19ea6f628ae"
      },
      "outputs": [
        {
          "name": "stderr",
          "output_type": "stream",
          "text": [
            "<ipython-input-57-a3918db5873b>:1: SettingWithCopyWarning: \n",
            "A value is trying to be set on a copy of a slice from a DataFrame.\n",
            "Try using .loc[row_indexer,col_indexer] = value instead\n",
            "\n",
            "See the caveats in the documentation: https://pandas.pydata.org/pandas-docs/stable/user_guide/indexing.html#returning-a-view-versus-a-copy\n",
            "  df['question'] = dict_QA['question']\n"
          ]
        }
      ],
      "source": [
        "df['question'] = dict_QA['question']"
      ]
    },
    {
      "cell_type": "code",
      "execution_count": 61,
      "metadata": {
        "colab": {
          "base_uri": "https://localhost:8080/"
        },
        "id": "_5Fg_QCHeQfw",
        "outputId": "6d6ba393-8f8f-4b67-94e9-043b6ed020bb"
      },
      "outputs": [
        {
          "name": "stderr",
          "output_type": "stream",
          "text": [
            "<ipython-input-61-7305735fe1af>:1: SettingWithCopyWarning: \n",
            "A value is trying to be set on a copy of a slice from a DataFrame.\n",
            "Try using .loc[row_indexer,col_indexer] = value instead\n",
            "\n",
            "See the caveats in the documentation: https://pandas.pydata.org/pandas-docs/stable/user_guide/indexing.html#returning-a-view-versus-a-copy\n",
            "  df['answer'] = dict_QA['answer']\n"
          ]
        }
      ],
      "source": [
        "df['answer'] = dict_QA['answer']"
      ]
    },
    {
      "cell_type": "markdown",
      "metadata": {
        "id": "UjGlHuWHhUaQ"
      },
      "source": [
        "## Save the output"
      ]
    },
    {
      "cell_type": "code",
      "execution_count": 63,
      "metadata": {
        "colab": {
          "base_uri": "https://localhost:8080/"
        },
        "id": "nKbfkBaUeVMX",
        "outputId": "96c8c065-d0d6-4bfe-9ff0-aee41a8a7969"
      },
      "outputs": [
        {
          "name": "stderr",
          "output_type": "stream",
          "text": [
            "/usr/local/lib/python3.8/dist-packages/pandas/core/frame.py:4906: SettingWithCopyWarning: \n",
            "A value is trying to be set on a copy of a slice from a DataFrame\n",
            "\n",
            "See the caveats in the documentation: https://pandas.pydata.org/pandas-docs/stable/user_guide/indexing.html#returning-a-view-versus-a-copy\n",
            "  return super().drop(\n"
          ]
        }
      ],
      "source": [
        "df.drop(labels = ['original','check'], axis = 1 , inplace = True)"
      ]
    },
    {
      "cell_type": "code",
      "execution_count": 66,
      "metadata": {
        "id": "8SXH38dXhmVG"
      },
      "outputs": [],
      "source": [
        "df.to_csv(\"output/df_QA.csv\", index = False)"
      ]
    }
  ],
  "metadata": {
    "colab": {
      "provenance": []
    },
    "kernelspec": {
      "display_name": "venv_fe",
      "language": "python",
      "name": "python3"
    },
    "language_info": {
      "name": "python",
      "version": "3.9.16 (main, Jan 11 2023, 16:16:36) [MSC v.1916 64 bit (AMD64)]"
    },
    "vscode": {
      "interpreter": {
        "hash": "a2b69f948a0540fe6227d8f64756844c29d394dc43155081f3dcbbb5c8a59907"
      }
    }
  },
  "nbformat": 4,
  "nbformat_minor": 0
}
