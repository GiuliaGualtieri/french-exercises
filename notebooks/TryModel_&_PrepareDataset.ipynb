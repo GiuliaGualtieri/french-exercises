{
  "cells": [
    {
      "cell_type": "markdown",
      "metadata": {
        "id": "OYL3iB83Vb9Y"
      },
      "source": [
        "# Mask-Filling task"
      ]
    },
    {
      "cell_type": "markdown",
      "metadata": {
        "id": "SQ2ClW60Vb3M"
      },
      "source": [
        "## Import libraries"
      ]
    },
    {
      "cell_type": "code",
      "execution_count": 1,
      "metadata": {
        "id": "r8mkVItPVmv_"
      },
      "outputs": [],
      "source": [
        "import pandas as pd\n",
        "import numpy as np"
      ]
    },
    {
      "cell_type": "code",
      "execution_count": 2,
      "metadata": {
        "id": "uD0eZo-9V9Jh"
      },
      "outputs": [],
      "source": [
        "import random"
      ]
    },
    {
      "cell_type": "code",
      "execution_count": 3,
      "metadata": {
        "id": "qp1ui8RYZWNR"
      },
      "outputs": [],
      "source": [
        "import tqdm"
      ]
    },
    {
      "cell_type": "code",
      "execution_count": 4,
      "metadata": {
        "id": "-YM28M1xVwS4"
      },
      "outputs": [
        {
          "name": "stderr",
          "output_type": "stream",
          "text": [
            "c:\\Users\\Giulia\\AppData\\Local\\Programs\\anaconda3\\envs\\venv_fe\\lib\\site-packages\\tqdm\\auto.py:22: TqdmWarning: IProgress not found. Please update jupyter and ipywidgets. See https://ipywidgets.readthedocs.io/en/stable/user_install.html\n",
            "  from .autonotebook import tqdm as notebook_tqdm\n"
          ]
        }
      ],
      "source": [
        "from transformers import AutoTokenizer, AutoModelForSeq2SeqLM"
      ]
    },
    {
      "cell_type": "code",
      "execution_count": 5,
      "metadata": {
        "id": "6OQeAl3WnN8o"
      },
      "outputs": [],
      "source": [
        "import string"
      ]
    },
    {
      "cell_type": "code",
      "execution_count": 6,
      "metadata": {
        "id": "jiV9-gRvTyRU"
      },
      "outputs": [],
      "source": [
        "import os"
      ]
    },
    {
      "cell_type": "code",
      "execution_count": 7,
      "metadata": {
        "colab": {
          "base_uri": "https://localhost:8080/",
          "height": 35
        },
        "id": "hbi4cpFuTvu0",
        "outputId": "6d8139a7-028d-4df4-b0fa-2b612c20212f"
      },
      "outputs": [
        {
          "data": {
            "text/plain": [
              "'c:\\\\Users\\\\Giulia\\\\Documents\\\\MyGithub\\\\Français_Exercises\\\\french-exercises\\\\notebooks'"
            ]
          },
          "execution_count": 7,
          "metadata": {},
          "output_type": "execute_result"
        }
      ],
      "source": [
        "os.getcwd()"
      ]
    },
    {
      "cell_type": "markdown",
      "metadata": {
        "id": "YVPbLyqRiLL3"
      },
      "source": [
        "## Dataset"
      ]
    },
    {
      "cell_type": "code",
      "execution_count": 144,
      "metadata": {
        "id": "9Rka_NOXeDUS"
      },
      "outputs": [],
      "source": [
        "df = pd.DataFrame(np.zeros((1,1)))\n",
        "with open('../data/in/lepetitprinceexupery.txt', 'r') as f:\n",
        "     lines = f.readlines()\n",
        "     for line in lines:\n",
        "            data = line.strip().split(\"\\t\")\n",
        "            for el in data:\n",
        "                phrases = el.strip().split(\".\")\n",
        "                for phrase in phrases:\n",
        "                    df = pd.DataFrame(np.append(df.values, [[phrase]], axis=0))"
      ]
    },
    {
      "cell_type": "code",
      "execution_count": 145,
      "metadata": {
        "id": "8EK8a_4rnxYC"
      },
      "outputs": [],
      "source": [
        "list_punctuation_to_remove = '!\"#$%&()*+,-./:;<=>?@[\\\\]^_`{|}~)Ã©ª'"
      ]
    },
    {
      "cell_type": "code",
      "execution_count": 146,
      "metadata": {
        "id": "CB7G_zlrkvrx"
      },
      "outputs": [],
      "source": [
        "def check_row_is_to_remove(row):\n",
        "    # convert and remove punctuation\n",
        "    new_row = row.translate(str.maketrans('', '', list_punctuation_to_remove))\n",
        "    # we want it has at least 5 words.\n",
        "    len_row = len(new_row.split())\n",
        "    if len_row < 5:\n",
        "        to_clean = True\n",
        "    else:\n",
        "        to_clean = False\n",
        "    return [to_clean, new_row]"
      ]
    },
    {
      "cell_type": "code",
      "execution_count": 147,
      "metadata": {
        "id": "mSUDWCEcqbkO"
      },
      "outputs": [],
      "source": [
        "df.rename(columns = {0:'original'}, inplace = True)"
      ]
    },
    {
      "cell_type": "code",
      "execution_count": 148,
      "metadata": {
        "id": "IgGTKEWoqiC1"
      },
      "outputs": [],
      "source": [
        "df[['check','new']] = [[check_row_is_to_remove(el)[0],check_row_is_to_remove(el)[1]] for el in df['original']]"
      ]
    },
    {
      "cell_type": "code",
      "execution_count": 149,
      "metadata": {
        "id": "iCfghgmXreTG"
      },
      "outputs": [],
      "source": [
        "df = df.loc[df['check']== False]"
      ]
    },
    {
      "cell_type": "code",
      "execution_count": 150,
      "metadata": {
        "colab": {
          "base_uri": "https://localhost:8080/",
          "height": 206
        },
        "id": "JjkHJzcurzAf",
        "outputId": "8f5ba7b3-92f8-492c-9582-0eccef5f6486"
      },
      "outputs": [
        {
          "data": {
            "text/html": [
              "<div>\n",
              "<style scoped>\n",
              "    .dataframe tbody tr th:only-of-type {\n",
              "        vertical-align: middle;\n",
              "    }\n",
              "\n",
              "    .dataframe tbody tr th {\n",
              "        vertical-align: top;\n",
              "    }\n",
              "\n",
              "    .dataframe thead th {\n",
              "        text-align: right;\n",
              "    }\n",
              "</style>\n",
              "<table border=\"1\" class=\"dataframe\">\n",
              "  <thead>\n",
              "    <tr style=\"text-align: right;\">\n",
              "      <th></th>\n",
              "      <th>original</th>\n",
              "      <th>check</th>\n",
              "      <th>new</th>\n",
              "    </tr>\n",
              "  </thead>\n",
              "  <tbody>\n",
              "    <tr>\n",
              "      <th>9</th>\n",
              "      <td>Lorsque j'avais six ans j'ai vu, une fois, une...</td>\n",
              "      <td>False</td>\n",
              "      <td>Lorsque j'avais six ans j'ai vu une fois une m...</td>\n",
              "    </tr>\n",
              "    <tr>\n",
              "      <th>10</th>\n",
              "      <td>Ã‡a reprÃ©sentait un serpent boa qui avalait ...</td>\n",
              "      <td>False</td>\n",
              "      <td>‡a reprsentait un serpent boa qui avalait un ...</td>\n",
              "    </tr>\n",
              "    <tr>\n",
              "      <th>11</th>\n",
              "      <td>VoilÃ  la copie du dessin</td>\n",
              "      <td>False</td>\n",
              "      <td>Voil  la copie du dessin</td>\n",
              "    </tr>\n",
              "    <tr>\n",
              "      <th>14</th>\n",
              "      <td>On disait dans le livre :\"Les serpents boas av...</td>\n",
              "      <td>False</td>\n",
              "      <td>On disait dans le livre Les serpents boas aval...</td>\n",
              "    </tr>\n",
              "    <tr>\n",
              "      <th>15</th>\n",
              "      <td>Ensuite ils ne peuvent plus bouger et ils dor...</td>\n",
              "      <td>False</td>\n",
              "      <td>Ensuite ils ne peuvent plus bouger et ils dor...</td>\n",
              "    </tr>\n",
              "  </tbody>\n",
              "</table>\n",
              "</div>"
            ],
            "text/plain": [
              "                                             original  check  \\\n",
              "9   Lorsque j'avais six ans j'ai vu, une fois, une...  False   \n",
              "10   Ã‡a reprÃ©sentait un serpent boa qui avalait ...  False   \n",
              "11                          VoilÃ  la copie du dessin  False   \n",
              "14  On disait dans le livre :\"Les serpents boas av...  False   \n",
              "15   Ensuite ils ne peuvent plus bouger et ils dor...  False   \n",
              "\n",
              "                                                  new  \n",
              "9   Lorsque j'avais six ans j'ai vu une fois une m...  \n",
              "10   ‡a reprsentait un serpent boa qui avalait un ...  \n",
              "11                           Voil  la copie du dessin  \n",
              "14  On disait dans le livre Les serpents boas aval...  \n",
              "15   Ensuite ils ne peuvent plus bouger et ils dor...  "
            ]
          },
          "execution_count": 150,
          "metadata": {},
          "output_type": "execute_result"
        }
      ],
      "source": [
        "df.head(5)"
      ]
    },
    {
      "cell_type": "code",
      "execution_count": 151,
      "metadata": {},
      "outputs": [],
      "source": [
        "import pprint"
      ]
    },
    {
      "cell_type": "code",
      "execution_count": 156,
      "metadata": {},
      "outputs": [
        {
          "data": {
            "text/plain": [
              "'Lorsque j\\'avais six ans j\\'ai vu, une fois, une magnifique image, dans un livre sur la ForÃªt Vierge qui s\\'appelait\"Histoires VÃ©cues\"'"
            ]
          },
          "execution_count": 156,
          "metadata": {},
          "output_type": "execute_result"
        }
      ],
      "source": [
        "df['original'].iloc[0]"
      ]
    },
    {
      "cell_type": "code",
      "execution_count": 153,
      "metadata": {},
      "outputs": [
        {
          "data": {
            "text/plain": [
              "\"Lorsque j'avais six ans j'ai vu une fois une magnifique image dans un livre sur la Fort Vierge qui s'appelaitHistoires Vcues\""
            ]
          },
          "execution_count": 153,
          "metadata": {},
          "output_type": "execute_result"
        }
      ],
      "source": [
        "df['new'].iloc[0]"
      ]
    },
    {
      "cell_type": "markdown",
      "metadata": {
        "id": "wf8tAs1GVnKz"
      },
      "source": [
        "## Model"
      ]
    },
    {
      "cell_type": "code",
      "execution_count": 157,
      "metadata": {
        "id": "QIrngj3xTmir"
      },
      "outputs": [],
      "source": [
        "tokenizer = AutoTokenizer.from_pretrained(\"moussaKam/mbarthez\")\n",
        "\n",
        "model = AutoModelForSeq2SeqLM.from_pretrained(\"moussaKam/mbarthez\")"
      ]
    },
    {
      "cell_type": "markdown",
      "metadata": {
        "id": "1elPrP1NVQzT"
      },
      "source": [
        "Example of BART model for mask-filling task in NLP."
      ]
    },
    {
      "cell_type": "markdown",
      "metadata": {
        "id": "5NEhq7CsWItb"
      },
      "source": [
        "A french sequence to sequence pretrained model based on BART.\n",
        "BARThez is pretrained by learning to reconstruct a corrupted input sentence. A corpus of 66GB of french raw text is used to carry out the pretraining.\n",
        "Unlike already existing BERT-based French language models such as CamemBERT and FlauBERT, BARThez is particularly well-suited for generative tasks (such as abstractive summarization), since not only its encoder but also its decoder is pretrained."
      ]
    },
    {
      "cell_type": "markdown",
      "metadata": {
        "id": "O6_TlPQ8bwgG"
      },
      "source": [
        "## Decode the input"
      ]
    },
    {
      "cell_type": "code",
      "execution_count": 158,
      "metadata": {
        "id": "WR8ujUdIcJCY"
      },
      "outputs": [],
      "source": [
        "def f_decode_input(txt):\n",
        "    input_ids = tokenizer([txt], return_tensors=\"pt\")[\"input_ids\"]\n",
        "    logits = model(input_ids).logits\n",
        "    masked_index = (input_ids[0] == tokenizer.mask_token_id).nonzero().item()\n",
        "    probs = logits[0, masked_index].softmax(dim=0)\n",
        "    values, predictions = probs.topk(5)\n",
        "    return tokenizer.decode(predictions).split()"
      ]
    },
    {
      "cell_type": "markdown",
      "metadata": {
        "id": "nS7nZQhfUO-Y"
      },
      "source": [
        "## Example"
      ]
    },
    {
      "cell_type": "code",
      "execution_count": 159,
      "metadata": {
        "id": "jCkrNKygVzP_"
      },
      "outputs": [],
      "source": [
        "TXT = \"Lorsque j'avais six ans j'ai vu, une fois, une <mask> image.\""
      ]
    },
    {
      "cell_type": "code",
      "execution_count": 160,
      "metadata": {
        "id": "W02rv5xHb2BM"
      },
      "outputs": [],
      "source": [
        "TXT2 = \"J'ai montré mon chef-d'oeuvre aux grandes <mask> et je leur ai demandé si mon dessin leur faisait peur.\""
      ]
    },
    {
      "cell_type": "code",
      "execution_count": 161,
      "metadata": {
        "id": "vHXjZ1fEd8fz"
      },
      "outputs": [],
      "source": [
        "TXT3 = \"je faisais l'expérience sur <mask> de mon dessin numéro Un\""
      ]
    },
    {
      "cell_type": "code",
      "execution_count": 162,
      "metadata": {
        "colab": {
          "base_uri": "https://localhost:8080/"
        },
        "id": "ZdTZVv46b3Yj",
        "outputId": "3ff5e57c-bb1a-4f3c-8c53-4ecb94c97ebb"
      },
      "outputs": [
        {
          "name": "stdout",
          "output_type": "stream",
          "text": [
            "['image', 'fois', 'seule', 'autre', 'photo']\n",
            "['personnes', 'écoles', 'et', 'heures']\n",
            "['la', 'le', 'l', 'de', 'les']\n"
          ]
        }
      ],
      "source": [
        "for txt in [TXT, TXT2, TXT3]:\n",
        "    print(f_decode_input(txt))"
      ]
    },
    {
      "cell_type": "markdown",
      "metadata": {
        "id": "DnvhTx6sVNco"
      },
      "source": [
        "## Training"
      ]
    },
    {
      "cell_type": "code",
      "execution_count": 226,
      "metadata": {},
      "outputs": [],
      "source": [
        "def check_prediction(to_mask, predictions):\n",
        "    list_ok = []\n",
        "    list_ko = []\n",
        "    predictions2 = None\n",
        "    for prediction in predictions:\n",
        "        prediction.translate(str.maketrans('', '', list_punctuation_to_remove))\n",
        "        if len(prediction)<2:\n",
        "            list_ko.append(prediction)\n",
        "        elif len(prediction)< 7 and len(prediction)<(len(to_mask)-2):\n",
        "            list_ko.append(prediction)\n",
        "        else:\n",
        "            list_ok.append(prediction)\n",
        "    if list_ko:\n",
        "        txt2 = \"Un possible synonyme de \"+to_mask+\" est <mask>.\"\n",
        "        predictions2 = f_decode_input(txt2)\n",
        "        predictions2 = [el.translate(str.maketrans('', '', list_punctuation_to_remove)) for el in predictions2]\n",
        "        predictions2 = [el for el in predictions2 if len(el)>1]\n",
        "        list_ok.extend(predictions2)\n",
        "    return list_ok"
      ]
    },
    {
      "cell_type": "code",
      "execution_count": 227,
      "metadata": {
        "id": "FqpQrpy-VKzW"
      },
      "outputs": [
        {
          "name": "stderr",
          "output_type": "stream",
          "text": [
            "1157it [17:00,  1.13it/s]\n"
          ]
        }
      ],
      "source": [
        "dict_QA = {'question' : [], 'answer' : [], 'answers' : []}\n",
        "\n",
        "for row in tqdm.tqdm(df.iterrows()):\n",
        "    words = row[1]['new'].split()\n",
        "    rnd = random.randint(0,len(words)-1)\n",
        "    to_mask = words[rnd]\n",
        "    while len(to_mask)<2:\n",
        "        rnd = random.randint(0,len(words)-1)\n",
        "        to_mask = words[rnd]    \n",
        "    words[rnd] = '<mask>'\n",
        "    to_txt = ''\n",
        "    for el in words:\n",
        "        to_txt += el + ' '\n",
        "    txt = to_txt[:-1]\n",
        "    predictions = f_decode_input(txt)\n",
        "    predictions = check_prediction(to_mask, predictions)\n",
        "    if to_mask not in predictions:\n",
        "        predictions = predictions[:-1]\n",
        "        predictions.append(to_mask)\n",
        "    dict_QA['question'].append(txt)\n",
        "    dict_QA['answers'].append(to_mask)\n",
        "    dict_QA['answers'].append(predictions)"
      ]
    },
    {
      "cell_type": "markdown",
      "metadata": {
        "id": "Ld66QoIwY2QN"
      },
      "source": [
        "## End"
      ]
    },
    {
      "cell_type": "code",
      "execution_count": 228,
      "metadata": {
        "colab": {
          "base_uri": "https://localhost:8080/"
        },
        "id": "R8dq-FF4YFSO",
        "outputId": "61db3637-c6bb-494a-b747-d19ea6f628ae"
      },
      "outputs": [
        {
          "ename": "ValueError",
          "evalue": "Length of values (0) does not match length of index (1157)",
          "output_type": "error",
          "traceback": [
            "\u001b[1;31m---------------------------------------------------------------------------\u001b[0m",
            "\u001b[1;31mValueError\u001b[0m                                Traceback (most recent call last)",
            "Cell \u001b[1;32mIn[228], line 2\u001b[0m\n\u001b[0;32m      1\u001b[0m df[\u001b[39m'\u001b[39m\u001b[39mquestion\u001b[39m\u001b[39m'\u001b[39m] \u001b[39m=\u001b[39m dict_QA[\u001b[39m'\u001b[39m\u001b[39mquestion\u001b[39m\u001b[39m'\u001b[39m]\n\u001b[1;32m----> 2\u001b[0m df[\u001b[39m'\u001b[39;49m\u001b[39manswer\u001b[39;49m\u001b[39m'\u001b[39;49m] \u001b[39m=\u001b[39m dict_QA[\u001b[39m'\u001b[39m\u001b[39manswer\u001b[39m\u001b[39m'\u001b[39m]\n\u001b[0;32m      3\u001b[0m df[\u001b[39m'\u001b[39m\u001b[39manswers\u001b[39m\u001b[39m'\u001b[39m] \u001b[39m=\u001b[39m dict_QA[\u001b[39m'\u001b[39m\u001b[39manswers\u001b[39m\u001b[39m'\u001b[39m]\n",
            "File \u001b[1;32mc:\\Users\\Giulia\\AppData\\Local\\Programs\\anaconda3\\envs\\venv_fe\\lib\\site-packages\\pandas\\core\\frame.py:3980\u001b[0m, in \u001b[0;36mDataFrame.__setitem__\u001b[1;34m(self, key, value)\u001b[0m\n\u001b[0;32m   3977\u001b[0m     \u001b[39mself\u001b[39m\u001b[39m.\u001b[39m_setitem_array([key], value)\n\u001b[0;32m   3978\u001b[0m \u001b[39melse\u001b[39;00m:\n\u001b[0;32m   3979\u001b[0m     \u001b[39m# set column\u001b[39;00m\n\u001b[1;32m-> 3980\u001b[0m     \u001b[39mself\u001b[39;49m\u001b[39m.\u001b[39;49m_set_item(key, value)\n",
            "File \u001b[1;32mc:\\Users\\Giulia\\AppData\\Local\\Programs\\anaconda3\\envs\\venv_fe\\lib\\site-packages\\pandas\\core\\frame.py:4174\u001b[0m, in \u001b[0;36mDataFrame._set_item\u001b[1;34m(self, key, value)\u001b[0m\n\u001b[0;32m   4164\u001b[0m \u001b[39mdef\u001b[39;00m \u001b[39m_set_item\u001b[39m(\u001b[39mself\u001b[39m, key, value) \u001b[39m-\u001b[39m\u001b[39m>\u001b[39m \u001b[39mNone\u001b[39;00m:\n\u001b[0;32m   4165\u001b[0m \u001b[39m    \u001b[39m\u001b[39m\"\"\"\u001b[39;00m\n\u001b[0;32m   4166\u001b[0m \u001b[39m    Add series to DataFrame in specified column.\u001b[39;00m\n\u001b[0;32m   4167\u001b[0m \n\u001b[1;32m   (...)\u001b[0m\n\u001b[0;32m   4172\u001b[0m \u001b[39m    ensure homogeneity.\u001b[39;00m\n\u001b[0;32m   4173\u001b[0m \u001b[39m    \"\"\"\u001b[39;00m\n\u001b[1;32m-> 4174\u001b[0m     value \u001b[39m=\u001b[39m \u001b[39mself\u001b[39;49m\u001b[39m.\u001b[39;49m_sanitize_column(value)\n\u001b[0;32m   4176\u001b[0m     \u001b[39mif\u001b[39;00m (\n\u001b[0;32m   4177\u001b[0m         key \u001b[39min\u001b[39;00m \u001b[39mself\u001b[39m\u001b[39m.\u001b[39mcolumns\n\u001b[0;32m   4178\u001b[0m         \u001b[39mand\u001b[39;00m value\u001b[39m.\u001b[39mndim \u001b[39m==\u001b[39m \u001b[39m1\u001b[39m\n\u001b[0;32m   4179\u001b[0m         \u001b[39mand\u001b[39;00m \u001b[39mnot\u001b[39;00m is_extension_array_dtype(value)\n\u001b[0;32m   4180\u001b[0m     ):\n\u001b[0;32m   4181\u001b[0m         \u001b[39m# broadcast across multiple columns if necessary\u001b[39;00m\n\u001b[0;32m   4182\u001b[0m         \u001b[39mif\u001b[39;00m \u001b[39mnot\u001b[39;00m \u001b[39mself\u001b[39m\u001b[39m.\u001b[39mcolumns\u001b[39m.\u001b[39mis_unique \u001b[39mor\u001b[39;00m \u001b[39misinstance\u001b[39m(\u001b[39mself\u001b[39m\u001b[39m.\u001b[39mcolumns, MultiIndex):\n",
            "File \u001b[1;32mc:\\Users\\Giulia\\AppData\\Local\\Programs\\anaconda3\\envs\\venv_fe\\lib\\site-packages\\pandas\\core\\frame.py:4915\u001b[0m, in \u001b[0;36mDataFrame._sanitize_column\u001b[1;34m(self, value)\u001b[0m\n\u001b[0;32m   4912\u001b[0m     \u001b[39mreturn\u001b[39;00m _reindex_for_setitem(Series(value), \u001b[39mself\u001b[39m\u001b[39m.\u001b[39mindex)\n\u001b[0;32m   4914\u001b[0m \u001b[39mif\u001b[39;00m is_list_like(value):\n\u001b[1;32m-> 4915\u001b[0m     com\u001b[39m.\u001b[39;49mrequire_length_match(value, \u001b[39mself\u001b[39;49m\u001b[39m.\u001b[39;49mindex)\n\u001b[0;32m   4916\u001b[0m \u001b[39mreturn\u001b[39;00m sanitize_array(value, \u001b[39mself\u001b[39m\u001b[39m.\u001b[39mindex, copy\u001b[39m=\u001b[39m\u001b[39mTrue\u001b[39;00m, allow_2d\u001b[39m=\u001b[39m\u001b[39mTrue\u001b[39;00m)\n",
            "File \u001b[1;32mc:\\Users\\Giulia\\AppData\\Local\\Programs\\anaconda3\\envs\\venv_fe\\lib\\site-packages\\pandas\\core\\common.py:571\u001b[0m, in \u001b[0;36mrequire_length_match\u001b[1;34m(data, index)\u001b[0m\n\u001b[0;32m    567\u001b[0m \u001b[39m\u001b[39m\u001b[39m\"\"\"\u001b[39;00m\n\u001b[0;32m    568\u001b[0m \u001b[39mCheck the length of data matches the length of the index.\u001b[39;00m\n\u001b[0;32m    569\u001b[0m \u001b[39m\"\"\"\u001b[39;00m\n\u001b[0;32m    570\u001b[0m \u001b[39mif\u001b[39;00m \u001b[39mlen\u001b[39m(data) \u001b[39m!=\u001b[39m \u001b[39mlen\u001b[39m(index):\n\u001b[1;32m--> 571\u001b[0m     \u001b[39mraise\u001b[39;00m \u001b[39mValueError\u001b[39;00m(\n\u001b[0;32m    572\u001b[0m         \u001b[39m\"\u001b[39m\u001b[39mLength of values \u001b[39m\u001b[39m\"\u001b[39m\n\u001b[0;32m    573\u001b[0m         \u001b[39mf\u001b[39m\u001b[39m\"\u001b[39m\u001b[39m(\u001b[39m\u001b[39m{\u001b[39;00m\u001b[39mlen\u001b[39m(data)\u001b[39m}\u001b[39;00m\u001b[39m) \u001b[39m\u001b[39m\"\u001b[39m\n\u001b[0;32m    574\u001b[0m         \u001b[39m\"\u001b[39m\u001b[39mdoes not match length of index \u001b[39m\u001b[39m\"\u001b[39m\n\u001b[0;32m    575\u001b[0m         \u001b[39mf\u001b[39m\u001b[39m\"\u001b[39m\u001b[39m(\u001b[39m\u001b[39m{\u001b[39;00m\u001b[39mlen\u001b[39m(index)\u001b[39m}\u001b[39;00m\u001b[39m)\u001b[39m\u001b[39m\"\u001b[39m\n\u001b[0;32m    576\u001b[0m     )\n",
            "\u001b[1;31mValueError\u001b[0m: Length of values (0) does not match length of index (1157)"
          ]
        }
      ],
      "source": [
        "df['question'] = dict_QA['question']\n",
        "df['answer'] = dict_QA['answer']\n",
        "df['answers'] = dict_QA['answers']"
      ]
    },
    {
      "cell_type": "code",
      "execution_count": null,
      "metadata": {},
      "outputs": [
        {
          "data": {
            "text/html": [
              "<div>\n",
              "<style scoped>\n",
              "    .dataframe tbody tr th:only-of-type {\n",
              "        vertical-align: middle;\n",
              "    }\n",
              "\n",
              "    .dataframe tbody tr th {\n",
              "        vertical-align: top;\n",
              "    }\n",
              "\n",
              "    .dataframe thead th {\n",
              "        text-align: right;\n",
              "    }\n",
              "</style>\n",
              "<table border=\"1\" class=\"dataframe\">\n",
              "  <thead>\n",
              "    <tr style=\"text-align: right;\">\n",
              "      <th></th>\n",
              "      <th>original</th>\n",
              "      <th>check</th>\n",
              "      <th>new</th>\n",
              "      <th>question</th>\n",
              "      <th>answer</th>\n",
              "    </tr>\n",
              "  </thead>\n",
              "  <tbody>\n",
              "    <tr>\n",
              "      <th>9</th>\n",
              "      <td>Lorsque j'avais six ans j'ai vu, une fois, une...</td>\n",
              "      <td>False</td>\n",
              "      <td>Lorsque j'avais six ans j'ai vu une fois une m...</td>\n",
              "      <td>Lorsque j'avais six ans j'ai vu une &lt;mask&gt; une...</td>\n",
              "      <td>[magnifique, superbe, merveille, belle, fois]</td>\n",
              "    </tr>\n",
              "    <tr>\n",
              "      <th>10</th>\n",
              "      <td>Ã‡a reprÃ©sentait un serpent boa qui avalait ...</td>\n",
              "      <td>False</td>\n",
              "      <td>‡a reprsentait un serpent boa qui avalait un ...</td>\n",
              "      <td>‡a &lt;mask&gt; un serpent boa qui avalait un fauve</td>\n",
              "      <td>[un, reprsentait]</td>\n",
              "    </tr>\n",
              "    <tr>\n",
              "      <th>11</th>\n",
              "      <td>VoilÃ  la copie du dessin</td>\n",
              "      <td>False</td>\n",
              "      <td>Voil  la copie du dessin</td>\n",
              "      <td>Voil la copie &lt;mask&gt; dessin</td>\n",
              "      <td>[du, de, ou, et, un, une, du]</td>\n",
              "    </tr>\n",
              "    <tr>\n",
              "      <th>14</th>\n",
              "      <td>On disait dans le livre :\"Les serpents boas av...</td>\n",
              "      <td>False</td>\n",
              "      <td>On disait dans le livre Les serpents boas aval...</td>\n",
              "      <td>On &lt;mask&gt; dans le livre Les serpents boas aval...</td>\n",
              "      <td>[retrouve, peut, trouve, disait]</td>\n",
              "    </tr>\n",
              "    <tr>\n",
              "      <th>15</th>\n",
              "      <td>Ensuite ils ne peuvent plus bouger et ils dor...</td>\n",
              "      <td>False</td>\n",
              "      <td>Ensuite ils ne peuvent plus bouger et ils dor...</td>\n",
              "      <td>Ensuite ils ne peuvent plus bouger et ils &lt;mas...</td>\n",
              "      <td>[pendant, mange, peuvent, un, le, dorment]</td>\n",
              "    </tr>\n",
              "    <tr>\n",
              "      <th>...</th>\n",
              "      <td>...</td>\n",
              "      <td>...</td>\n",
              "      <td>...</td>\n",
              "      <td>...</td>\n",
              "      <td>...</td>\n",
              "    </tr>\n",
              "    <tr>\n",
              "      <th>3217</th>\n",
              "      <td>\"Alors les grelots se changent tous en larmes !</td>\n",
              "      <td>False</td>\n",
              "      <td>Alors les grelots se changent tous en larmes</td>\n",
              "      <td>Alors les &lt;mask&gt; se changent tous en larmes</td>\n",
              "      <td>[enfants, hommes, un, le, grelots]</td>\n",
              "    </tr>\n",
              "    <tr>\n",
              "      <th>3222</th>\n",
              "      <td>C'est lÃ  un bien grand mystÃ¨re</td>\n",
              "      <td>False</td>\n",
              "      <td>C'est l  un bien grand myst¨re</td>\n",
              "      <td>C'est l un bien &lt;mask&gt; myst¨re</td>\n",
              "      <td>[bien, plus, que, un, le, grand]</td>\n",
              "    </tr>\n",
              "    <tr>\n",
              "      <th>3223</th>\n",
              "      <td>Pour vous qui aimez aussi le petit prince, co...</td>\n",
              "      <td>False</td>\n",
              "      <td>Pour vous qui aimez aussi le petit prince com...</td>\n",
              "      <td>Pour vous qui aimez aussi le petit prince comm...</td>\n",
              "      <td>[nous, ne, un]</td>\n",
              "    </tr>\n",
              "    <tr>\n",
              "      <th>3229</th>\n",
              "      <td>Demandez-vous : Le mouton oui ou non a-t-il m...</td>\n",
              "      <td>False</td>\n",
              "      <td>Demandezvous  Le mouton oui ou non atil mang ...</td>\n",
              "      <td>Demandezvous &lt;mask&gt; mouton oui ou non atil man...</td>\n",
              "      <td>[si, le, oui, au, Le]</td>\n",
              "    </tr>\n",
              "    <tr>\n",
              "      <th>3234</th>\n",
              "      <td>Et aucune grande personne ne comprendra jamais...</td>\n",
              "      <td>False</td>\n",
              "      <td>Et aucune grande personne ne comprendra jamais...</td>\n",
              "      <td>Et aucune grande personne ne comprendra jamais...</td>\n",
              "      <td>[§a]</td>\n",
              "    </tr>\n",
              "  </tbody>\n",
              "</table>\n",
              "<p>1157 rows × 5 columns</p>\n",
              "</div>"
            ],
            "text/plain": [
              "                                               original  check  \\\n",
              "9     Lorsque j'avais six ans j'ai vu, une fois, une...  False   \n",
              "10     Ã‡a reprÃ©sentait un serpent boa qui avalait ...  False   \n",
              "11                            VoilÃ  la copie du dessin  False   \n",
              "14    On disait dans le livre :\"Les serpents boas av...  False   \n",
              "15     Ensuite ils ne peuvent plus bouger et ils dor...  False   \n",
              "...                                                 ...    ...   \n",
              "3217   \"Alors les grelots se changent tous en larmes !   False   \n",
              "3222                   C'est lÃ  un bien grand mystÃ¨re  False   \n",
              "3223   Pour vous qui aimez aussi le petit prince, co...  False   \n",
              "3229   Demandez-vous : Le mouton oui ou non a-t-il m...  False   \n",
              "3234  Et aucune grande personne ne comprendra jamais...  False   \n",
              "\n",
              "                                                    new  \\\n",
              "9     Lorsque j'avais six ans j'ai vu une fois une m...   \n",
              "10     ‡a reprsentait un serpent boa qui avalait un ...   \n",
              "11                             Voil  la copie du dessin   \n",
              "14    On disait dans le livre Les serpents boas aval...   \n",
              "15     Ensuite ils ne peuvent plus bouger et ils dor...   \n",
              "...                                                 ...   \n",
              "3217     Alors les grelots se changent tous en larmes     \n",
              "3222                     C'est l  un bien grand myst¨re   \n",
              "3223   Pour vous qui aimez aussi le petit prince com...   \n",
              "3229   Demandezvous  Le mouton oui ou non atil mang ...   \n",
              "3234  Et aucune grande personne ne comprendra jamais...   \n",
              "\n",
              "                                               question  \\\n",
              "9     Lorsque j'avais six ans j'ai vu une <mask> une...   \n",
              "10        ‡a <mask> un serpent boa qui avalait un fauve   \n",
              "11                          Voil la copie <mask> dessin   \n",
              "14    On <mask> dans le livre Les serpents boas aval...   \n",
              "15    Ensuite ils ne peuvent plus bouger et ils <mas...   \n",
              "...                                                 ...   \n",
              "3217        Alors les <mask> se changent tous en larmes   \n",
              "3222                     C'est l un bien <mask> myst¨re   \n",
              "3223  Pour vous qui aimez aussi le petit prince comm...   \n",
              "3229  Demandezvous <mask> mouton oui ou non atil man...   \n",
              "3234  Et aucune grande personne ne comprendra jamais...   \n",
              "\n",
              "                                             answer  \n",
              "9     [magnifique, superbe, merveille, belle, fois]  \n",
              "10                                [un, reprsentait]  \n",
              "11                    [du, de, ou, et, un, une, du]  \n",
              "14                 [retrouve, peut, trouve, disait]  \n",
              "15       [pendant, mange, peuvent, un, le, dorment]  \n",
              "...                                             ...  \n",
              "3217             [enfants, hommes, un, le, grelots]  \n",
              "3222               [bien, plus, que, un, le, grand]  \n",
              "3223                                 [nous, ne, un]  \n",
              "3229                          [si, le, oui, au, Le]  \n",
              "3234                                           [§a]  \n",
              "\n",
              "[1157 rows x 5 columns]"
            ]
          },
          "execution_count": 211,
          "metadata": {},
          "output_type": "execute_result"
        }
      ],
      "source": [
        "df"
      ]
    },
    {
      "cell_type": "markdown",
      "metadata": {
        "id": "UjGlHuWHhUaQ"
      },
      "source": [
        "## Save the output"
      ]
    },
    {
      "cell_type": "code",
      "execution_count": null,
      "metadata": {
        "colab": {
          "base_uri": "https://localhost:8080/"
        },
        "id": "nKbfkBaUeVMX",
        "outputId": "96c8c065-d0d6-4bfe-9ff0-aee41a8a7969"
      },
      "outputs": [],
      "source": [
        "df.drop(labels = ['original','check'], axis = 1 , inplace = True)"
      ]
    },
    {
      "cell_type": "code",
      "execution_count": null,
      "metadata": {
        "id": "8SXH38dXhmVG"
      },
      "outputs": [],
      "source": [
        "df.to_csv(\"../data/out/df_QA.csv\", index = False)"
      ]
    }
  ],
  "metadata": {
    "colab": {
      "provenance": []
    },
    "kernelspec": {
      "display_name": "venv_fe",
      "language": "python",
      "name": "python3"
    },
    "language_info": {
      "codemirror_mode": {
        "name": "ipython",
        "version": 3
      },
      "file_extension": ".py",
      "mimetype": "text/x-python",
      "name": "python",
      "nbconvert_exporter": "python",
      "pygments_lexer": "ipython3",
      "version": "3.9.16"
    },
    "vscode": {
      "interpreter": {
        "hash": "a2b69f948a0540fe6227d8f64756844c29d394dc43155081f3dcbbb5c8a59907"
      }
    }
  },
  "nbformat": 4,
  "nbformat_minor": 0
}
